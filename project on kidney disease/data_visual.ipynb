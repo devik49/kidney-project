{
 "cells": [
  {
   "cell_type": "markdown",
   "id": "2999f3cb",
   "metadata": {},
   "source": [
    "# Register no:212008\n",
    "# Date:\n",
    "# Program title:\n",
    "# Dataset:Kidney disease prediction\n"
   ]
  },
  {
   "cell_type": "code",
   "execution_count": null,
   "id": "d02c399c",
   "metadata": {},
   "outputs": [],
   "source": [
    "pip install imblearn"
   ]
  },
  {
   "cell_type": "code",
   "execution_count": 3,
   "id": "20b534ad",
   "metadata": {},
   "outputs": [],
   "source": [
    "kidney_df =pd.read_csv(\"D:\\project\\kidney_disease.csv\")"
   ]
  },
  {
   "cell_type": "code",
   "execution_count": 2,
   "id": "71f4072f",
   "metadata": {},
   "outputs": [],
   "source": [
    "import pandas as pd # data manipulation\n",
    "import numpy as np #numerical computation,arrays\n",
    "import matplotlib.pyplot as plt #plotting data & creating visualation\n",
    "import seaborn as sms #plotting data & creating visualation\n",
    "import os\n",
    "import matplotlib.pyplot as plt\n",
    "from numpy import NaN\n",
    "from scipy.stats import skew\n",
    "import statsmodels.api as sm\n",
    "from statsmodels.stats.outliers_influence import variance_inflation_factor\n",
    "import random\n",
    "from imblearn.over_sampling import SMOTE\n",
    "import sklearn\n",
    "from sklearn.preprocessing import LabelEncoder\n",
    "import warnings\n",
    "warnings.filterwarnings('ignore')"
   ]
  },
  {
   "cell_type": "markdown",
   "id": "c715154a",
   "metadata": {},
   "source": [
    "# Data Pre Processing"
   ]
  },
  {
   "cell_type": "code",
   "execution_count": 4,
   "id": "39b295ad",
   "metadata": {},
   "outputs": [
    {
     "data": {
      "text/html": [
       "<div>\n",
       "<style scoped>\n",
       "    .dataframe tbody tr th:only-of-type {\n",
       "        vertical-align: middle;\n",
       "    }\n",
       "\n",
       "    .dataframe tbody tr th {\n",
       "        vertical-align: top;\n",
       "    }\n",
       "\n",
       "    .dataframe thead th {\n",
       "        text-align: right;\n",
       "    }\n",
       "</style>\n",
       "<table border=\"1\" class=\"dataframe\">\n",
       "  <thead>\n",
       "    <tr style=\"text-align: right;\">\n",
       "      <th></th>\n",
       "      <th>id</th>\n",
       "      <th>age</th>\n",
       "      <th>bp</th>\n",
       "      <th>sg</th>\n",
       "      <th>al</th>\n",
       "      <th>su</th>\n",
       "      <th>rbc</th>\n",
       "      <th>pc</th>\n",
       "      <th>pcc</th>\n",
       "      <th>ba</th>\n",
       "      <th>...</th>\n",
       "      <th>pcv</th>\n",
       "      <th>wc</th>\n",
       "      <th>rc</th>\n",
       "      <th>htn</th>\n",
       "      <th>dm</th>\n",
       "      <th>cad</th>\n",
       "      <th>appet</th>\n",
       "      <th>pe</th>\n",
       "      <th>ane</th>\n",
       "      <th>classification</th>\n",
       "    </tr>\n",
       "  </thead>\n",
       "  <tbody>\n",
       "    <tr>\n",
       "      <th>0</th>\n",
       "      <td>0</td>\n",
       "      <td>48.0</td>\n",
       "      <td>80.0</td>\n",
       "      <td>1.020</td>\n",
       "      <td>1.0</td>\n",
       "      <td>0.0</td>\n",
       "      <td>NaN</td>\n",
       "      <td>normal</td>\n",
       "      <td>notpresent</td>\n",
       "      <td>notpresent</td>\n",
       "      <td>...</td>\n",
       "      <td>44</td>\n",
       "      <td>7800</td>\n",
       "      <td>5.2</td>\n",
       "      <td>yes</td>\n",
       "      <td>yes</td>\n",
       "      <td>no</td>\n",
       "      <td>good</td>\n",
       "      <td>no</td>\n",
       "      <td>no</td>\n",
       "      <td>ckd</td>\n",
       "    </tr>\n",
       "    <tr>\n",
       "      <th>1</th>\n",
       "      <td>1</td>\n",
       "      <td>7.0</td>\n",
       "      <td>50.0</td>\n",
       "      <td>1.020</td>\n",
       "      <td>4.0</td>\n",
       "      <td>0.0</td>\n",
       "      <td>NaN</td>\n",
       "      <td>normal</td>\n",
       "      <td>notpresent</td>\n",
       "      <td>notpresent</td>\n",
       "      <td>...</td>\n",
       "      <td>38</td>\n",
       "      <td>6000</td>\n",
       "      <td>NaN</td>\n",
       "      <td>no</td>\n",
       "      <td>no</td>\n",
       "      <td>no</td>\n",
       "      <td>good</td>\n",
       "      <td>no</td>\n",
       "      <td>no</td>\n",
       "      <td>ckd</td>\n",
       "    </tr>\n",
       "    <tr>\n",
       "      <th>2</th>\n",
       "      <td>2</td>\n",
       "      <td>62.0</td>\n",
       "      <td>80.0</td>\n",
       "      <td>1.010</td>\n",
       "      <td>2.0</td>\n",
       "      <td>3.0</td>\n",
       "      <td>normal</td>\n",
       "      <td>normal</td>\n",
       "      <td>notpresent</td>\n",
       "      <td>notpresent</td>\n",
       "      <td>...</td>\n",
       "      <td>31</td>\n",
       "      <td>7500</td>\n",
       "      <td>NaN</td>\n",
       "      <td>no</td>\n",
       "      <td>yes</td>\n",
       "      <td>no</td>\n",
       "      <td>poor</td>\n",
       "      <td>no</td>\n",
       "      <td>yes</td>\n",
       "      <td>ckd</td>\n",
       "    </tr>\n",
       "    <tr>\n",
       "      <th>3</th>\n",
       "      <td>3</td>\n",
       "      <td>48.0</td>\n",
       "      <td>70.0</td>\n",
       "      <td>1.005</td>\n",
       "      <td>4.0</td>\n",
       "      <td>0.0</td>\n",
       "      <td>normal</td>\n",
       "      <td>abnormal</td>\n",
       "      <td>present</td>\n",
       "      <td>notpresent</td>\n",
       "      <td>...</td>\n",
       "      <td>32</td>\n",
       "      <td>6700</td>\n",
       "      <td>3.9</td>\n",
       "      <td>yes</td>\n",
       "      <td>no</td>\n",
       "      <td>no</td>\n",
       "      <td>poor</td>\n",
       "      <td>yes</td>\n",
       "      <td>yes</td>\n",
       "      <td>ckd</td>\n",
       "    </tr>\n",
       "    <tr>\n",
       "      <th>4</th>\n",
       "      <td>4</td>\n",
       "      <td>51.0</td>\n",
       "      <td>80.0</td>\n",
       "      <td>1.010</td>\n",
       "      <td>2.0</td>\n",
       "      <td>0.0</td>\n",
       "      <td>normal</td>\n",
       "      <td>normal</td>\n",
       "      <td>notpresent</td>\n",
       "      <td>notpresent</td>\n",
       "      <td>...</td>\n",
       "      <td>35</td>\n",
       "      <td>7300</td>\n",
       "      <td>4.6</td>\n",
       "      <td>no</td>\n",
       "      <td>no</td>\n",
       "      <td>no</td>\n",
       "      <td>good</td>\n",
       "      <td>no</td>\n",
       "      <td>no</td>\n",
       "      <td>ckd</td>\n",
       "    </tr>\n",
       "    <tr>\n",
       "      <th>5</th>\n",
       "      <td>5</td>\n",
       "      <td>60.0</td>\n",
       "      <td>90.0</td>\n",
       "      <td>1.015</td>\n",
       "      <td>3.0</td>\n",
       "      <td>0.0</td>\n",
       "      <td>NaN</td>\n",
       "      <td>NaN</td>\n",
       "      <td>notpresent</td>\n",
       "      <td>notpresent</td>\n",
       "      <td>...</td>\n",
       "      <td>39</td>\n",
       "      <td>7800</td>\n",
       "      <td>4.4</td>\n",
       "      <td>yes</td>\n",
       "      <td>yes</td>\n",
       "      <td>no</td>\n",
       "      <td>good</td>\n",
       "      <td>yes</td>\n",
       "      <td>no</td>\n",
       "      <td>ckd</td>\n",
       "    </tr>\n",
       "    <tr>\n",
       "      <th>6</th>\n",
       "      <td>6</td>\n",
       "      <td>68.0</td>\n",
       "      <td>70.0</td>\n",
       "      <td>1.010</td>\n",
       "      <td>0.0</td>\n",
       "      <td>0.0</td>\n",
       "      <td>NaN</td>\n",
       "      <td>normal</td>\n",
       "      <td>notpresent</td>\n",
       "      <td>notpresent</td>\n",
       "      <td>...</td>\n",
       "      <td>36</td>\n",
       "      <td>NaN</td>\n",
       "      <td>NaN</td>\n",
       "      <td>no</td>\n",
       "      <td>no</td>\n",
       "      <td>no</td>\n",
       "      <td>good</td>\n",
       "      <td>no</td>\n",
       "      <td>no</td>\n",
       "      <td>ckd</td>\n",
       "    </tr>\n",
       "    <tr>\n",
       "      <th>7</th>\n",
       "      <td>7</td>\n",
       "      <td>24.0</td>\n",
       "      <td>NaN</td>\n",
       "      <td>1.015</td>\n",
       "      <td>2.0</td>\n",
       "      <td>4.0</td>\n",
       "      <td>normal</td>\n",
       "      <td>abnormal</td>\n",
       "      <td>notpresent</td>\n",
       "      <td>notpresent</td>\n",
       "      <td>...</td>\n",
       "      <td>44</td>\n",
       "      <td>6900</td>\n",
       "      <td>5</td>\n",
       "      <td>no</td>\n",
       "      <td>yes</td>\n",
       "      <td>no</td>\n",
       "      <td>good</td>\n",
       "      <td>yes</td>\n",
       "      <td>no</td>\n",
       "      <td>ckd</td>\n",
       "    </tr>\n",
       "    <tr>\n",
       "      <th>8</th>\n",
       "      <td>8</td>\n",
       "      <td>52.0</td>\n",
       "      <td>100.0</td>\n",
       "      <td>1.015</td>\n",
       "      <td>3.0</td>\n",
       "      <td>0.0</td>\n",
       "      <td>normal</td>\n",
       "      <td>abnormal</td>\n",
       "      <td>present</td>\n",
       "      <td>notpresent</td>\n",
       "      <td>...</td>\n",
       "      <td>33</td>\n",
       "      <td>9600</td>\n",
       "      <td>4.0</td>\n",
       "      <td>yes</td>\n",
       "      <td>yes</td>\n",
       "      <td>no</td>\n",
       "      <td>good</td>\n",
       "      <td>no</td>\n",
       "      <td>yes</td>\n",
       "      <td>ckd</td>\n",
       "    </tr>\n",
       "    <tr>\n",
       "      <th>9</th>\n",
       "      <td>9</td>\n",
       "      <td>53.0</td>\n",
       "      <td>90.0</td>\n",
       "      <td>1.020</td>\n",
       "      <td>2.0</td>\n",
       "      <td>0.0</td>\n",
       "      <td>abnormal</td>\n",
       "      <td>abnormal</td>\n",
       "      <td>present</td>\n",
       "      <td>notpresent</td>\n",
       "      <td>...</td>\n",
       "      <td>29</td>\n",
       "      <td>12100</td>\n",
       "      <td>3.7</td>\n",
       "      <td>yes</td>\n",
       "      <td>yes</td>\n",
       "      <td>no</td>\n",
       "      <td>poor</td>\n",
       "      <td>no</td>\n",
       "      <td>yes</td>\n",
       "      <td>ckd</td>\n",
       "    </tr>\n",
       "    <tr>\n",
       "      <th>10</th>\n",
       "      <td>10</td>\n",
       "      <td>50.0</td>\n",
       "      <td>60.0</td>\n",
       "      <td>1.010</td>\n",
       "      <td>2.0</td>\n",
       "      <td>4.0</td>\n",
       "      <td>NaN</td>\n",
       "      <td>abnormal</td>\n",
       "      <td>present</td>\n",
       "      <td>notpresent</td>\n",
       "      <td>...</td>\n",
       "      <td>28</td>\n",
       "      <td>NaN</td>\n",
       "      <td>NaN</td>\n",
       "      <td>yes</td>\n",
       "      <td>yes</td>\n",
       "      <td>no</td>\n",
       "      <td>good</td>\n",
       "      <td>no</td>\n",
       "      <td>yes</td>\n",
       "      <td>ckd</td>\n",
       "    </tr>\n",
       "    <tr>\n",
       "      <th>11</th>\n",
       "      <td>11</td>\n",
       "      <td>63.0</td>\n",
       "      <td>70.0</td>\n",
       "      <td>1.010</td>\n",
       "      <td>3.0</td>\n",
       "      <td>0.0</td>\n",
       "      <td>abnormal</td>\n",
       "      <td>abnormal</td>\n",
       "      <td>present</td>\n",
       "      <td>notpresent</td>\n",
       "      <td>...</td>\n",
       "      <td>32</td>\n",
       "      <td>4500</td>\n",
       "      <td>3.8</td>\n",
       "      <td>yes</td>\n",
       "      <td>yes</td>\n",
       "      <td>no</td>\n",
       "      <td>poor</td>\n",
       "      <td>yes</td>\n",
       "      <td>no</td>\n",
       "      <td>ckd</td>\n",
       "    </tr>\n",
       "    <tr>\n",
       "      <th>12</th>\n",
       "      <td>12</td>\n",
       "      <td>68.0</td>\n",
       "      <td>70.0</td>\n",
       "      <td>1.015</td>\n",
       "      <td>3.0</td>\n",
       "      <td>1.0</td>\n",
       "      <td>NaN</td>\n",
       "      <td>normal</td>\n",
       "      <td>present</td>\n",
       "      <td>notpresent</td>\n",
       "      <td>...</td>\n",
       "      <td>28</td>\n",
       "      <td>12200</td>\n",
       "      <td>3.4</td>\n",
       "      <td>yes</td>\n",
       "      <td>yes</td>\n",
       "      <td>yes</td>\n",
       "      <td>poor</td>\n",
       "      <td>yes</td>\n",
       "      <td>no</td>\n",
       "      <td>ckd</td>\n",
       "    </tr>\n",
       "    <tr>\n",
       "      <th>13</th>\n",
       "      <td>13</td>\n",
       "      <td>68.0</td>\n",
       "      <td>70.0</td>\n",
       "      <td>NaN</td>\n",
       "      <td>NaN</td>\n",
       "      <td>NaN</td>\n",
       "      <td>NaN</td>\n",
       "      <td>NaN</td>\n",
       "      <td>notpresent</td>\n",
       "      <td>notpresent</td>\n",
       "      <td>...</td>\n",
       "      <td>NaN</td>\n",
       "      <td>NaN</td>\n",
       "      <td>NaN</td>\n",
       "      <td>yes</td>\n",
       "      <td>yes</td>\n",
       "      <td>yes</td>\n",
       "      <td>poor</td>\n",
       "      <td>yes</td>\n",
       "      <td>no</td>\n",
       "      <td>ckd</td>\n",
       "    </tr>\n",
       "    <tr>\n",
       "      <th>14</th>\n",
       "      <td>14</td>\n",
       "      <td>68.0</td>\n",
       "      <td>80.0</td>\n",
       "      <td>1.010</td>\n",
       "      <td>3.0</td>\n",
       "      <td>2.0</td>\n",
       "      <td>normal</td>\n",
       "      <td>abnormal</td>\n",
       "      <td>present</td>\n",
       "      <td>present</td>\n",
       "      <td>...</td>\n",
       "      <td>16</td>\n",
       "      <td>11000</td>\n",
       "      <td>2.6</td>\n",
       "      <td>yes</td>\n",
       "      <td>yes</td>\n",
       "      <td>yes</td>\n",
       "      <td>poor</td>\n",
       "      <td>yes</td>\n",
       "      <td>no</td>\n",
       "      <td>ckd</td>\n",
       "    </tr>\n",
       "  </tbody>\n",
       "</table>\n",
       "<p>15 rows × 26 columns</p>\n",
       "</div>"
      ],
      "text/plain": [
       "    id   age     bp     sg   al   su       rbc        pc         pcc  \\\n",
       "0    0  48.0   80.0  1.020  1.0  0.0       NaN    normal  notpresent   \n",
       "1    1   7.0   50.0  1.020  4.0  0.0       NaN    normal  notpresent   \n",
       "2    2  62.0   80.0  1.010  2.0  3.0    normal    normal  notpresent   \n",
       "3    3  48.0   70.0  1.005  4.0  0.0    normal  abnormal     present   \n",
       "4    4  51.0   80.0  1.010  2.0  0.0    normal    normal  notpresent   \n",
       "5    5  60.0   90.0  1.015  3.0  0.0       NaN       NaN  notpresent   \n",
       "6    6  68.0   70.0  1.010  0.0  0.0       NaN    normal  notpresent   \n",
       "7    7  24.0    NaN  1.015  2.0  4.0    normal  abnormal  notpresent   \n",
       "8    8  52.0  100.0  1.015  3.0  0.0    normal  abnormal     present   \n",
       "9    9  53.0   90.0  1.020  2.0  0.0  abnormal  abnormal     present   \n",
       "10  10  50.0   60.0  1.010  2.0  4.0       NaN  abnormal     present   \n",
       "11  11  63.0   70.0  1.010  3.0  0.0  abnormal  abnormal     present   \n",
       "12  12  68.0   70.0  1.015  3.0  1.0       NaN    normal     present   \n",
       "13  13  68.0   70.0    NaN  NaN  NaN       NaN       NaN  notpresent   \n",
       "14  14  68.0   80.0  1.010  3.0  2.0    normal  abnormal     present   \n",
       "\n",
       "            ba  ...  pcv     wc   rc  htn   dm  cad appet   pe  ane  \\\n",
       "0   notpresent  ...   44   7800  5.2  yes  yes   no  good   no   no   \n",
       "1   notpresent  ...   38   6000  NaN   no   no   no  good   no   no   \n",
       "2   notpresent  ...   31   7500  NaN   no  yes   no  poor   no  yes   \n",
       "3   notpresent  ...   32   6700  3.9  yes   no   no  poor  yes  yes   \n",
       "4   notpresent  ...   35   7300  4.6   no   no   no  good   no   no   \n",
       "5   notpresent  ...   39   7800  4.4  yes  yes   no  good  yes   no   \n",
       "6   notpresent  ...   36    NaN  NaN   no   no   no  good   no   no   \n",
       "7   notpresent  ...   44   6900    5   no  yes   no  good  yes   no   \n",
       "8   notpresent  ...   33   9600  4.0  yes  yes   no  good   no  yes   \n",
       "9   notpresent  ...   29  12100  3.7  yes  yes   no  poor   no  yes   \n",
       "10  notpresent  ...   28    NaN  NaN  yes  yes   no  good   no  yes   \n",
       "11  notpresent  ...   32   4500  3.8  yes  yes   no  poor  yes   no   \n",
       "12  notpresent  ...   28  12200  3.4  yes  yes  yes  poor  yes   no   \n",
       "13  notpresent  ...  NaN    NaN  NaN  yes  yes  yes  poor  yes   no   \n",
       "14     present  ...   16  11000  2.6  yes  yes  yes  poor  yes   no   \n",
       "\n",
       "   classification  \n",
       "0             ckd  \n",
       "1             ckd  \n",
       "2             ckd  \n",
       "3             ckd  \n",
       "4             ckd  \n",
       "5             ckd  \n",
       "6             ckd  \n",
       "7             ckd  \n",
       "8             ckd  \n",
       "9             ckd  \n",
       "10            ckd  \n",
       "11            ckd  \n",
       "12            ckd  \n",
       "13            ckd  \n",
       "14            ckd  \n",
       "\n",
       "[15 rows x 26 columns]"
      ]
     },
     "execution_count": 4,
     "metadata": {},
     "output_type": "execute_result"
    }
   ],
   "source": [
    "#Displaying first 15 values\n",
    "kidney_df.head(15)"
   ]
  },
  {
   "cell_type": "code",
   "execution_count": null,
   "id": "45fcb70f",
   "metadata": {},
   "outputs": [],
   "source": [
    "#blood pressure\n",
    "#sugar\n",
    "#Aluminium\n",
    "#post cibum\n",
    "#red blood cell\n",
    "#Prothrombim Complex Concentrate\n",
    "#packed cell volume\n",
    "#Renal cell carcinoma\n",
    "#high blood pressure\n"
   ]
  },
  {
   "cell_type": "markdown",
   "id": "fab64064",
   "metadata": {},
   "source": [
    "# Attribute Information\n"
   ]
  },
  {
   "cell_type": "code",
   "execution_count": 5,
   "id": "e6b75fe2",
   "metadata": {},
   "outputs": [
    {
     "name": "stdout",
     "output_type": "stream",
     "text": [
      "bp \t [ 80.  50.  70.  90.  nan 100.  60. 110. 140. 180. 120.]\n",
      "sg \t [1.02  1.01  1.005 1.015   nan 1.025]\n",
      "al \t [ 1.  4.  2.  3.  0. nan  5.]\n",
      "su \t [ 0.  3.  4.  1. nan  2.  5.]\n",
      "rbc \t [nan 'normal' 'abnormal']\n",
      "pc \t ['normal' 'abnormal' nan]\n",
      "pcc \t ['notpresent' 'present' nan]\n",
      "ba \t ['notpresent' 'present' nan]\n",
      "bgr \t [121.  nan 423. 117. 106.  74. 100. 410. 138.  70. 490. 380. 208.  98.\n",
      " 157.  76.  99. 114. 263. 173.  95. 108. 156. 264. 123.  93. 107. 159.\n",
      " 140. 171. 270.  92. 137. 204.  79. 207. 124. 144.  91. 162. 246. 253.\n",
      " 141. 182.  86. 150. 146. 425. 112. 250. 360. 163. 129. 133. 102. 158.\n",
      " 165. 132. 104. 127. 415. 169. 251. 109. 280. 210. 219. 295.  94. 172.\n",
      " 101. 298. 153.  88. 226. 143. 115.  89. 297. 233. 294. 323. 125.  90.\n",
      " 308. 118. 224. 128. 122. 214. 213. 268. 256.  84. 105. 288. 139.  78.\n",
      " 273. 242. 424. 303. 148. 160. 192. 307. 220. 447. 309.  22. 111. 261.\n",
      " 215. 234. 131. 352.  80. 239. 110. 130. 184. 252. 113. 230. 341. 255.\n",
      " 103. 238. 248. 120. 241. 269. 201. 203. 463. 176.  82. 119.  97.  96.\n",
      "  81. 116. 134.  85.  83.  87.  75.]\n",
      "bu \t [ 36.   18.   53.   56.   26.   25.   54.   31.   60.  107.   55.   72.\n",
      "  86.   90.  162.   46.   87.   27.  148.  180.  163.    nan  50.   75.\n",
      "  45.   28.  155.   33.   39.  153.   29.   65.  103.   70.   80.   20.\n",
      " 202.   77.   89.   24.   17.   32.  114.   66.   38.  164.  142.   96.\n",
      " 391.   15.  111.   73.   19.   92.   35.   16.  139.   48.   85.   98.\n",
      " 186.   37.   47.   52.   82.   51.  106.   22.  217.   88.  118.   50.1\n",
      "  71.   34.   40.   21.  219.   30.  125.  166.   49.  208.  176.   68.\n",
      " 145.  165.  322.   23.  235.  132.   76.   42.   44.   41.  113.    1.5\n",
      " 146.   58.  133.  137.   67.  115.  223.   98.6 158.   94.   74.  150.\n",
      "  61.   57.   95.  191.   93.  241.   64.   79.  215.  309.   10. ]\n",
      "sc \t [ 1.2   0.8   1.8   3.8   1.4   1.1  24.    1.9   7.2   4.    2.7   2.1\n",
      "  4.6   4.1   9.6   2.2   5.2   1.3   1.6   3.9  76.    7.7    nan  2.4\n",
      "  7.3   1.5   2.5   2.    3.4   0.7   1.   10.8   6.3   5.9   0.9   3.\n",
      "  3.25  9.7   6.4   3.2  32.    0.6   6.1   3.3   6.7   8.5   2.8  15.\n",
      "  2.9   1.7   3.6   5.6   6.5   4.4  10.2  11.5   0.5  12.2   5.3   9.2\n",
      " 13.8  16.9   6.    7.1  18.    2.3  13.   48.1  14.2  16.4   2.6   7.5\n",
      "  4.3  18.1  11.8   9.3   6.8  13.5  12.8  11.9  12.   13.4  15.2  13.3\n",
      "  0.4 ]\n",
      "sod \t [  nan 111.  142.  104.  114.  131.  138.  135.  130.  141.  139.    4.5\n",
      " 136.  129.  140.  132.  133.  134.  125.  163.  137.  128.  143.  127.\n",
      " 146.  126.  122.  147.  124.  115.  145.  113.  120.  150.  144. ]\n",
      "pot \t [ nan  2.5  3.2  4.   3.7  4.2  5.8  3.4  6.4  4.9  4.1  4.3  5.2  3.8\n",
      "  4.6  3.9  4.7  5.9  4.8  4.4  6.6 39.   5.5  5.   3.5  3.6  7.6  2.9\n",
      "  4.5  5.7  5.4  5.3 47.   6.3  5.1  5.6  3.   2.8  2.7  6.5  3.3]\n",
      "hemo \t [15.4 11.3  9.6 11.2 11.6 12.2 12.4 10.8  9.5  9.4  9.7  9.8  5.6  7.6\n",
      " 12.6 12.1 12.7 10.3  7.7 10.9  nan 11.1  9.9 12.5 12.9 10.1 12.  13.\n",
      "  7.9  9.3 15.  10.   8.6 13.6 10.2 10.5  6.6 11.   7.5 15.6 15.2  4.8\n",
      "  9.1  8.1 11.9 13.5  8.3  7.1 16.1 10.4  9.2  6.2 13.9 14.1  6.  11.8\n",
      " 11.7 11.4 14.   8.2 13.2  6.1  8.  12.3  8.4 14.3  9.   8.7 10.6 13.1\n",
      " 10.7  5.5  5.8  6.8  8.8  8.5 13.8 11.5  7.3 13.7 12.8 13.4  6.3  3.1\n",
      " 17.  15.9 14.5 15.5 16.2 14.4 14.2 16.3 14.8 16.5 15.7 13.3 14.6 16.4\n",
      " 16.9 16.  14.7 16.6 14.9 16.7 16.8 15.8 15.1 17.1 17.2 15.3 17.3 17.4\n",
      " 17.7 17.8 17.5 17.6]\n",
      "pcv \t ['44' '38' '31' '32' '35' '39' '36' '33' '29' '28' nan '16' '24' '37' '30'\n",
      " '34' '40' '45' '27' '48' '\\t?' '52' '14' '22' '18' '42' '17' '46' '23'\n",
      " '19' '25' '41' '26' '15' '21' '43' '20' '\\t43' '47' '9' '49' '50' '53'\n",
      " '51' '54']\n",
      "wc \t ['7800' '6000' '7500' '6700' '7300' nan '6900' '9600' '12100' '4500'\n",
      " '12200' '11000' '3800' '11400' '5300' '9200' '6200' '8300' '8400' '10300'\n",
      " '9800' '9100' '7900' '6400' '8600' '18900' '21600' '4300' '8500' '11300'\n",
      " '7200' '7700' '14600' '6300' '\\t6200' '7100' '11800' '9400' '5500' '5800'\n",
      " '13200' '12500' '5600' '7000' '11900' '10400' '10700' '12700' '6800'\n",
      " '6500' '13600' '10200' '9000' '14900' '8200' '15200' '5000' '16300'\n",
      " '12400' '\\t8400' '10500' '4200' '4700' '10900' '8100' '9500' '2200'\n",
      " '12800' '11200' '19100' '\\t?' '12300' '16700' '2600' '26400' '8800'\n",
      " '7400' '4900' '8000' '12000' '15700' '4100' '5700' '11500' '5400' '10800'\n",
      " '9900' '5200' '5900' '9300' '9700' '5100' '6600']\n",
      "rc \t ['5.2' nan '3.9' '4.6' '4.4' '5' '4.0' '3.7' '3.8' '3.4' '2.6' '2.8' '4.3'\n",
      " '3.2' '3.6' '4' '4.1' '4.9' '2.5' '4.2' '4.5' '3.1' '4.7' '3.5' '6.0'\n",
      " '5.0' '2.1' '5.6' '2.3' '2.9' '2.7' '8.0' '3.3' '3.0' '3' '2.4' '4.8'\n",
      " '\\t?' '5.4' '6.1' '6.2' '6.3' '5.1' '5.8' '5.5' '5.3' '6.4' '5.7' '5.9'\n",
      " '6.5']\n",
      "htn \t ['yes' 'no' nan]\n",
      "dm \t ['yes' 'no' ' yes' '\\tno' '\\tyes' nan]\n",
      "cad \t ['no' 'yes' '\\tno' nan]\n",
      "appet \t ['good' 'poor' nan]\n",
      "pe \t ['no' 'yes' nan]\n",
      "ane \t ['no' 'yes' nan]\n",
      "classification \t ['ckd' 'ckd\\t' 'notckd']\n"
     ]
    }
   ],
   "source": [
    "#Displaying the unique value from each column\n",
    "col=kidney_df[['bp','sg','al','su',\n",
    "               'rbc','pc','pcc','ba','bgr',\n",
    "               'bu','sc','sod','pot','hemo',\n",
    "               'pcv','wc','rc','htn','dm',\n",
    "               'cad','appet','pe','ane','classification']]\n",
    "for i in col:\n",
    "    print(i,\"\\t\",col[i].unique())\n",
    "    "
   ]
  },
  {
   "cell_type": "markdown",
   "id": "040bfe8d",
   "metadata": {},
   "source": [
    "# checking for null values\n"
   ]
  },
  {
   "cell_type": "code",
   "execution_count": 6,
   "id": "da6f93c7",
   "metadata": {},
   "outputs": [
    {
     "data": {
      "text/plain": [
       "id                  0\n",
       "age                 9\n",
       "bp                 12\n",
       "sg                 47\n",
       "al                 46\n",
       "su                 49\n",
       "rbc               152\n",
       "pc                 65\n",
       "pcc                 4\n",
       "ba                  4\n",
       "bgr                44\n",
       "bu                 19\n",
       "sc                 17\n",
       "sod                87\n",
       "pot                88\n",
       "hemo               52\n",
       "pcv                70\n",
       "wc                105\n",
       "rc                130\n",
       "htn                 2\n",
       "dm                  2\n",
       "cad                 2\n",
       "appet               1\n",
       "pe                  1\n",
       "ane                 1\n",
       "classification      0\n",
       "dtype: int64"
      ]
     },
     "execution_count": 6,
     "metadata": {},
     "output_type": "execute_result"
    }
   ],
   "source": [
    "kidney_df.isnull().sum()"
   ]
  },
  {
   "cell_type": "code",
   "execution_count": 7,
   "id": "65ca2590",
   "metadata": {},
   "outputs": [
    {
     "data": {
      "text/plain": [
       "<AxesSubplot:>"
      ]
     },
     "execution_count": 7,
     "metadata": {},
     "output_type": "execute_result"
    },
    {
     "data": {
      "image/png": "[encoded data removed]",
      "text/plain": [
       "<Figure size 432x288 with 1 Axes>"
      ]
     },
     "metadata": {
      "needs_background": "light"
     },
     "output_type": "display_data"
    }
   ],
   "source": [
    "#This is a visualization of missing data in the dataset\n",
    "sms.heatmap(kidney_df.isnull(),yticklabels=False,cbar=False,cmap='viridis')"
   ]
  },
  {
   "cell_type": "markdown",
   "id": "47264b65",
   "metadata": {},
   "source": [
    "# Data cleaning"
   ]
  },
  {
   "cell_type": "code",
   "execution_count": 5,
   "id": "f6c9d002",
   "metadata": {},
   "outputs": [],
   "source": [
    "#Dropping a column ID\n",
    "kidney_df.drop([\"id\"],inplace=True,axis=1) "
   ]
  },
  {
   "cell_type": "code",
   "execution_count": 8,
   "id": "c5548976",
   "metadata": {},
   "outputs": [],
   "source": [
    "#Replacing \\t?,\\t43,\\t?,\\t6200,\\t8400,ck\\t \n",
    "kidney_df['pcv']=kidney_df['pcv'].replace(to_replace = '\\t?',value=np.nan)\n",
    "kidney_df['pcv']=kidney_df['pcv'].replace(to_replace = '\\t43',value=43)\n",
    "kidney_df['pcv']=kidney_df['pcv'].replace(to_replace ='nan' ,value=np.nan)\n",
    "kidney_df['wc']=kidney_df['wc'].replace(to_replace = '\\t?',value=np.nan)\n",
    "kidney_df['wc']=kidney_df['wc'].replace(to_replace = '\\t6200',value=6200)\n",
    "kidney_df['wc']=kidney_df['wc'].replace(to_replace = '\\t8400',value=8400)\n",
    "kidney_df['rc']=kidney_df['rc'].replace(to_replace = '\\t?',value=np.nan)\n",
    "kidney_df['dm']=kidney_df['dm'].replace(to_replace = '\\tno',value='no')\n",
    "kidney_df['dm']=kidney_df['dm'].replace(to_replace = '\\tyes',value='yes')\n",
    "kidney_df['cad']=kidney_df['cad'].replace(to_replace = '\\tno',value='no')\n",
    "kidney_df['classification']=kidney_df['classification'].replace(to_replace = 'ckd\\t',value='ckd')"
   ]
  },
  {
   "cell_type": "code",
   "execution_count": 9,
   "id": "e91e7259",
   "metadata": {},
   "outputs": [
    {
     "data": {
      "text/html": [
       "<div>\n",
       "<style scoped>\n",
       "    .dataframe tbody tr th:only-of-type {\n",
       "        vertical-align: middle;\n",
       "    }\n",
       "\n",
       "    .dataframe tbody tr th {\n",
       "        vertical-align: top;\n",
       "    }\n",
       "\n",
       "    .dataframe thead th {\n",
       "        text-align: right;\n",
       "    }\n",
       "</style>\n",
       "<table border=\"1\" class=\"dataframe\">\n",
       "  <thead>\n",
       "    <tr style=\"text-align: right;\">\n",
       "      <th></th>\n",
       "      <th>age</th>\n",
       "      <th>bp</th>\n",
       "      <th>sg</th>\n",
       "      <th>al</th>\n",
       "      <th>su</th>\n",
       "      <th>rbc</th>\n",
       "      <th>pc</th>\n",
       "      <th>pcc</th>\n",
       "      <th>ba</th>\n",
       "      <th>bgr</th>\n",
       "      <th>...</th>\n",
       "      <th>pcv</th>\n",
       "      <th>wc</th>\n",
       "      <th>rc</th>\n",
       "      <th>htn</th>\n",
       "      <th>dm</th>\n",
       "      <th>cad</th>\n",
       "      <th>appet</th>\n",
       "      <th>pe</th>\n",
       "      <th>ane</th>\n",
       "      <th>classification</th>\n",
       "    </tr>\n",
       "  </thead>\n",
       "  <tbody>\n",
       "    <tr>\n",
       "      <th>0</th>\n",
       "      <td>48.0</td>\n",
       "      <td>80.0</td>\n",
       "      <td>1.020</td>\n",
       "      <td>1.0</td>\n",
       "      <td>0.0</td>\n",
       "      <td>NaN</td>\n",
       "      <td>normal</td>\n",
       "      <td>notpresent</td>\n",
       "      <td>notpresent</td>\n",
       "      <td>121.0</td>\n",
       "      <td>...</td>\n",
       "      <td>44</td>\n",
       "      <td>7800</td>\n",
       "      <td>5.2</td>\n",
       "      <td>yes</td>\n",
       "      <td>yes</td>\n",
       "      <td>no</td>\n",
       "      <td>good</td>\n",
       "      <td>no</td>\n",
       "      <td>no</td>\n",
       "      <td>ckd</td>\n",
       "    </tr>\n",
       "    <tr>\n",
       "      <th>1</th>\n",
       "      <td>7.0</td>\n",
       "      <td>50.0</td>\n",
       "      <td>1.020</td>\n",
       "      <td>4.0</td>\n",
       "      <td>0.0</td>\n",
       "      <td>NaN</td>\n",
       "      <td>normal</td>\n",
       "      <td>notpresent</td>\n",
       "      <td>notpresent</td>\n",
       "      <td>NaN</td>\n",
       "      <td>...</td>\n",
       "      <td>38</td>\n",
       "      <td>6000</td>\n",
       "      <td>NaN</td>\n",
       "      <td>no</td>\n",
       "      <td>no</td>\n",
       "      <td>no</td>\n",
       "      <td>good</td>\n",
       "      <td>no</td>\n",
       "      <td>no</td>\n",
       "      <td>ckd</td>\n",
       "    </tr>\n",
       "    <tr>\n",
       "      <th>2</th>\n",
       "      <td>62.0</td>\n",
       "      <td>80.0</td>\n",
       "      <td>1.010</td>\n",
       "      <td>2.0</td>\n",
       "      <td>3.0</td>\n",
       "      <td>normal</td>\n",
       "      <td>normal</td>\n",
       "      <td>notpresent</td>\n",
       "      <td>notpresent</td>\n",
       "      <td>423.0</td>\n",
       "      <td>...</td>\n",
       "      <td>31</td>\n",
       "      <td>7500</td>\n",
       "      <td>NaN</td>\n",
       "      <td>no</td>\n",
       "      <td>yes</td>\n",
       "      <td>no</td>\n",
       "      <td>poor</td>\n",
       "      <td>no</td>\n",
       "      <td>yes</td>\n",
       "      <td>ckd</td>\n",
       "    </tr>\n",
       "    <tr>\n",
       "      <th>3</th>\n",
       "      <td>48.0</td>\n",
       "      <td>70.0</td>\n",
       "      <td>1.005</td>\n",
       "      <td>4.0</td>\n",
       "      <td>0.0</td>\n",
       "      <td>normal</td>\n",
       "      <td>abnormal</td>\n",
       "      <td>present</td>\n",
       "      <td>notpresent</td>\n",
       "      <td>117.0</td>\n",
       "      <td>...</td>\n",
       "      <td>32</td>\n",
       "      <td>6700</td>\n",
       "      <td>3.9</td>\n",
       "      <td>yes</td>\n",
       "      <td>no</td>\n",
       "      <td>no</td>\n",
       "      <td>poor</td>\n",
       "      <td>yes</td>\n",
       "      <td>yes</td>\n",
       "      <td>ckd</td>\n",
       "    </tr>\n",
       "    <tr>\n",
       "      <th>4</th>\n",
       "      <td>51.0</td>\n",
       "      <td>80.0</td>\n",
       "      <td>1.010</td>\n",
       "      <td>2.0</td>\n",
       "      <td>0.0</td>\n",
       "      <td>normal</td>\n",
       "      <td>normal</td>\n",
       "      <td>notpresent</td>\n",
       "      <td>notpresent</td>\n",
       "      <td>106.0</td>\n",
       "      <td>...</td>\n",
       "      <td>35</td>\n",
       "      <td>7300</td>\n",
       "      <td>4.6</td>\n",
       "      <td>no</td>\n",
       "      <td>no</td>\n",
       "      <td>no</td>\n",
       "      <td>good</td>\n",
       "      <td>no</td>\n",
       "      <td>no</td>\n",
       "      <td>ckd</td>\n",
       "    </tr>\n",
       "    <tr>\n",
       "      <th>...</th>\n",
       "      <td>...</td>\n",
       "      <td>...</td>\n",
       "      <td>...</td>\n",
       "      <td>...</td>\n",
       "      <td>...</td>\n",
       "      <td>...</td>\n",
       "      <td>...</td>\n",
       "      <td>...</td>\n",
       "      <td>...</td>\n",
       "      <td>...</td>\n",
       "      <td>...</td>\n",
       "      <td>...</td>\n",
       "      <td>...</td>\n",
       "      <td>...</td>\n",
       "      <td>...</td>\n",
       "      <td>...</td>\n",
       "      <td>...</td>\n",
       "      <td>...</td>\n",
       "      <td>...</td>\n",
       "      <td>...</td>\n",
       "      <td>...</td>\n",
       "    </tr>\n",
       "    <tr>\n",
       "      <th>395</th>\n",
       "      <td>55.0</td>\n",
       "      <td>80.0</td>\n",
       "      <td>1.020</td>\n",
       "      <td>0.0</td>\n",
       "      <td>0.0</td>\n",
       "      <td>normal</td>\n",
       "      <td>normal</td>\n",
       "      <td>notpresent</td>\n",
       "      <td>notpresent</td>\n",
       "      <td>140.0</td>\n",
       "      <td>...</td>\n",
       "      <td>47</td>\n",
       "      <td>6700</td>\n",
       "      <td>4.9</td>\n",
       "      <td>no</td>\n",
       "      <td>no</td>\n",
       "      <td>no</td>\n",
       "      <td>good</td>\n",
       "      <td>no</td>\n",
       "      <td>no</td>\n",
       "      <td>notckd</td>\n",
       "    </tr>\n",
       "    <tr>\n",
       "      <th>396</th>\n",
       "      <td>42.0</td>\n",
       "      <td>70.0</td>\n",
       "      <td>1.025</td>\n",
       "      <td>0.0</td>\n",
       "      <td>0.0</td>\n",
       "      <td>normal</td>\n",
       "      <td>normal</td>\n",
       "      <td>notpresent</td>\n",
       "      <td>notpresent</td>\n",
       "      <td>75.0</td>\n",
       "      <td>...</td>\n",
       "      <td>54</td>\n",
       "      <td>7800</td>\n",
       "      <td>6.2</td>\n",
       "      <td>no</td>\n",
       "      <td>no</td>\n",
       "      <td>no</td>\n",
       "      <td>good</td>\n",
       "      <td>no</td>\n",
       "      <td>no</td>\n",
       "      <td>notckd</td>\n",
       "    </tr>\n",
       "    <tr>\n",
       "      <th>397</th>\n",
       "      <td>12.0</td>\n",
       "      <td>80.0</td>\n",
       "      <td>1.020</td>\n",
       "      <td>0.0</td>\n",
       "      <td>0.0</td>\n",
       "      <td>normal</td>\n",
       "      <td>normal</td>\n",
       "      <td>notpresent</td>\n",
       "      <td>notpresent</td>\n",
       "      <td>100.0</td>\n",
       "      <td>...</td>\n",
       "      <td>49</td>\n",
       "      <td>6600</td>\n",
       "      <td>5.4</td>\n",
       "      <td>no</td>\n",
       "      <td>no</td>\n",
       "      <td>no</td>\n",
       "      <td>good</td>\n",
       "      <td>no</td>\n",
       "      <td>no</td>\n",
       "      <td>notckd</td>\n",
       "    </tr>\n",
       "    <tr>\n",
       "      <th>398</th>\n",
       "      <td>17.0</td>\n",
       "      <td>60.0</td>\n",
       "      <td>1.025</td>\n",
       "      <td>0.0</td>\n",
       "      <td>0.0</td>\n",
       "      <td>normal</td>\n",
       "      <td>normal</td>\n",
       "      <td>notpresent</td>\n",
       "      <td>notpresent</td>\n",
       "      <td>114.0</td>\n",
       "      <td>...</td>\n",
       "      <td>51</td>\n",
       "      <td>7200</td>\n",
       "      <td>5.9</td>\n",
       "      <td>no</td>\n",
       "      <td>no</td>\n",
       "      <td>no</td>\n",
       "      <td>good</td>\n",
       "      <td>no</td>\n",
       "      <td>no</td>\n",
       "      <td>notckd</td>\n",
       "    </tr>\n",
       "    <tr>\n",
       "      <th>399</th>\n",
       "      <td>58.0</td>\n",
       "      <td>80.0</td>\n",
       "      <td>1.025</td>\n",
       "      <td>0.0</td>\n",
       "      <td>0.0</td>\n",
       "      <td>normal</td>\n",
       "      <td>normal</td>\n",
       "      <td>notpresent</td>\n",
       "      <td>notpresent</td>\n",
       "      <td>131.0</td>\n",
       "      <td>...</td>\n",
       "      <td>53</td>\n",
       "      <td>6800</td>\n",
       "      <td>6.1</td>\n",
       "      <td>no</td>\n",
       "      <td>no</td>\n",
       "      <td>no</td>\n",
       "      <td>good</td>\n",
       "      <td>no</td>\n",
       "      <td>no</td>\n",
       "      <td>notckd</td>\n",
       "    </tr>\n",
       "  </tbody>\n",
       "</table>\n",
       "<p>391 rows × 25 columns</p>\n",
       "</div>"
      ],
      "text/plain": [
       "      age    bp     sg   al   su     rbc        pc         pcc          ba  \\\n",
       "0    48.0  80.0  1.020  1.0  0.0     NaN    normal  notpresent  notpresent   \n",
       "1     7.0  50.0  1.020  4.0  0.0     NaN    normal  notpresent  notpresent   \n",
       "2    62.0  80.0  1.010  2.0  3.0  normal    normal  notpresent  notpresent   \n",
       "3    48.0  70.0  1.005  4.0  0.0  normal  abnormal     present  notpresent   \n",
       "4    51.0  80.0  1.010  2.0  0.0  normal    normal  notpresent  notpresent   \n",
       "..    ...   ...    ...  ...  ...     ...       ...         ...         ...   \n",
       "395  55.0  80.0  1.020  0.0  0.0  normal    normal  notpresent  notpresent   \n",
       "396  42.0  70.0  1.025  0.0  0.0  normal    normal  notpresent  notpresent   \n",
       "397  12.0  80.0  1.020  0.0  0.0  normal    normal  notpresent  notpresent   \n",
       "398  17.0  60.0  1.025  0.0  0.0  normal    normal  notpresent  notpresent   \n",
       "399  58.0  80.0  1.025  0.0  0.0  normal    normal  notpresent  notpresent   \n",
       "\n",
       "       bgr  ...  pcv    wc   rc  htn   dm cad appet   pe  ane classification  \n",
       "0    121.0  ...   44  7800  5.2  yes  yes  no  good   no   no            ckd  \n",
       "1      NaN  ...   38  6000  NaN   no   no  no  good   no   no            ckd  \n",
       "2    423.0  ...   31  7500  NaN   no  yes  no  poor   no  yes            ckd  \n",
       "3    117.0  ...   32  6700  3.9  yes   no  no  poor  yes  yes            ckd  \n",
       "4    106.0  ...   35  7300  4.6   no   no  no  good   no   no            ckd  \n",
       "..     ...  ...  ...   ...  ...  ...  ...  ..   ...  ...  ...            ...  \n",
       "395  140.0  ...   47  6700  4.9   no   no  no  good   no   no         notckd  \n",
       "396   75.0  ...   54  7800  6.2   no   no  no  good   no   no         notckd  \n",
       "397  100.0  ...   49  6600  5.4   no   no  no  good   no   no         notckd  \n",
       "398  114.0  ...   51  7200  5.9   no   no  no  good   no   no         notckd  \n",
       "399  131.0  ...   53  6800  6.1   no   no  no  good   no   no         notckd  \n",
       "\n",
       "[391 rows x 25 columns]"
      ]
     },
     "execution_count": 9,
     "metadata": {},
     "output_type": "execute_result"
    }
   ],
   "source": [
    "#Deleting null values of age \n",
    "delage =kidney_df[(kidney_df['age'].isnull())].index\n",
    "kidney_df.drop(delage , inplace=True)\n",
    "kidney_df"
   ]
  },
  {
   "cell_type": "code",
   "execution_count": 10,
   "id": "1c07c32f",
   "metadata": {},
   "outputs": [],
   "source": [
    "#converting the values to numerical data\n",
    "kidney_df['htn']=kidney_df['htn'].replace(to_replace = 'yes',value='1')\n",
    "kidney_df['htn']=kidney_df['htn'].replace(to_replace = 'no',value='0')\n",
    "kidney_df['dm']=kidney_df['dm'].replace(to_replace = 'yes',value='1')\n",
    "kidney_df['dm']=kidney_df['dm'].replace(to_replace = 'no',value='0')\n",
    "kidney_df['cad']=kidney_df['cad'].replace(to_replace = 'yes',value='1')\n",
    "kidney_df['cad']=kidney_df['cad'].replace(to_replace = 'no',value='0')\n",
    "kidney_df['pe']=kidney_df['pe'].replace(to_replace = 'yes',value='1')\n",
    "kidney_df['pe']=kidney_df['pe'].replace(to_replace = 'no',value='0')\n",
    "kidney_df['ane']=kidney_df['ane'].replace(to_replace = 'yes',value='1')\n",
    "kidney_df['ane']=kidney_df['ane'].replace(to_replace = 'no',value='0')"
   ]
  },
  {
   "cell_type": "code",
   "execution_count": 12,
   "id": "f1e599ac",
   "metadata": {},
   "outputs": [
    {
     "data": {
      "text/html": [
       "<div>\n",
       "<style scoped>\n",
       "    .dataframe tbody tr th:only-of-type {\n",
       "        vertical-align: middle;\n",
       "    }\n",
       "\n",
       "    .dataframe tbody tr th {\n",
       "        vertical-align: top;\n",
       "    }\n",
       "\n",
       "    .dataframe thead th {\n",
       "        text-align: right;\n",
       "    }\n",
       "</style>\n",
       "<table border=\"1\" class=\"dataframe\">\n",
       "  <thead>\n",
       "    <tr style=\"text-align: right;\">\n",
       "      <th></th>\n",
       "      <th>age</th>\n",
       "      <th>bp</th>\n",
       "      <th>sg</th>\n",
       "      <th>al</th>\n",
       "      <th>su</th>\n",
       "      <th>rbc</th>\n",
       "      <th>pc</th>\n",
       "      <th>pcc</th>\n",
       "      <th>ba</th>\n",
       "      <th>bgr</th>\n",
       "      <th>...</th>\n",
       "      <th>pcv</th>\n",
       "      <th>wc</th>\n",
       "      <th>rc</th>\n",
       "      <th>htn</th>\n",
       "      <th>dm</th>\n",
       "      <th>cad</th>\n",
       "      <th>appet</th>\n",
       "      <th>pe</th>\n",
       "      <th>ane</th>\n",
       "      <th>classification</th>\n",
       "    </tr>\n",
       "  </thead>\n",
       "  <tbody>\n",
       "    <tr>\n",
       "      <th>0</th>\n",
       "      <td>48.0</td>\n",
       "      <td>80.0</td>\n",
       "      <td>1.020</td>\n",
       "      <td>1.0</td>\n",
       "      <td>0.0</td>\n",
       "      <td>NaN</td>\n",
       "      <td>normal</td>\n",
       "      <td>notpresent</td>\n",
       "      <td>notpresent</td>\n",
       "      <td>121.0</td>\n",
       "      <td>...</td>\n",
       "      <td>44</td>\n",
       "      <td>7800</td>\n",
       "      <td>5.2</td>\n",
       "      <td>1</td>\n",
       "      <td>1</td>\n",
       "      <td>0</td>\n",
       "      <td>good</td>\n",
       "      <td>0</td>\n",
       "      <td>0</td>\n",
       "      <td>ckd</td>\n",
       "    </tr>\n",
       "    <tr>\n",
       "      <th>1</th>\n",
       "      <td>7.0</td>\n",
       "      <td>50.0</td>\n",
       "      <td>1.020</td>\n",
       "      <td>4.0</td>\n",
       "      <td>0.0</td>\n",
       "      <td>NaN</td>\n",
       "      <td>normal</td>\n",
       "      <td>notpresent</td>\n",
       "      <td>notpresent</td>\n",
       "      <td>NaN</td>\n",
       "      <td>...</td>\n",
       "      <td>38</td>\n",
       "      <td>6000</td>\n",
       "      <td>NaN</td>\n",
       "      <td>0</td>\n",
       "      <td>0</td>\n",
       "      <td>0</td>\n",
       "      <td>good</td>\n",
       "      <td>0</td>\n",
       "      <td>0</td>\n",
       "      <td>ckd</td>\n",
       "    </tr>\n",
       "    <tr>\n",
       "      <th>2</th>\n",
       "      <td>62.0</td>\n",
       "      <td>80.0</td>\n",
       "      <td>1.010</td>\n",
       "      <td>2.0</td>\n",
       "      <td>3.0</td>\n",
       "      <td>normal</td>\n",
       "      <td>normal</td>\n",
       "      <td>notpresent</td>\n",
       "      <td>notpresent</td>\n",
       "      <td>423.0</td>\n",
       "      <td>...</td>\n",
       "      <td>31</td>\n",
       "      <td>7500</td>\n",
       "      <td>NaN</td>\n",
       "      <td>0</td>\n",
       "      <td>1</td>\n",
       "      <td>0</td>\n",
       "      <td>poor</td>\n",
       "      <td>0</td>\n",
       "      <td>1</td>\n",
       "      <td>ckd</td>\n",
       "    </tr>\n",
       "    <tr>\n",
       "      <th>3</th>\n",
       "      <td>48.0</td>\n",
       "      <td>70.0</td>\n",
       "      <td>1.005</td>\n",
       "      <td>4.0</td>\n",
       "      <td>0.0</td>\n",
       "      <td>normal</td>\n",
       "      <td>abnormal</td>\n",
       "      <td>present</td>\n",
       "      <td>notpresent</td>\n",
       "      <td>117.0</td>\n",
       "      <td>...</td>\n",
       "      <td>32</td>\n",
       "      <td>6700</td>\n",
       "      <td>3.9</td>\n",
       "      <td>1</td>\n",
       "      <td>0</td>\n",
       "      <td>0</td>\n",
       "      <td>poor</td>\n",
       "      <td>1</td>\n",
       "      <td>1</td>\n",
       "      <td>ckd</td>\n",
       "    </tr>\n",
       "    <tr>\n",
       "      <th>4</th>\n",
       "      <td>51.0</td>\n",
       "      <td>80.0</td>\n",
       "      <td>1.010</td>\n",
       "      <td>2.0</td>\n",
       "      <td>0.0</td>\n",
       "      <td>normal</td>\n",
       "      <td>normal</td>\n",
       "      <td>notpresent</td>\n",
       "      <td>notpresent</td>\n",
       "      <td>106.0</td>\n",
       "      <td>...</td>\n",
       "      <td>35</td>\n",
       "      <td>7300</td>\n",
       "      <td>4.6</td>\n",
       "      <td>0</td>\n",
       "      <td>0</td>\n",
       "      <td>0</td>\n",
       "      <td>good</td>\n",
       "      <td>0</td>\n",
       "      <td>0</td>\n",
       "      <td>ckd</td>\n",
       "    </tr>\n",
       "    <tr>\n",
       "      <th>5</th>\n",
       "      <td>60.0</td>\n",
       "      <td>90.0</td>\n",
       "      <td>1.015</td>\n",
       "      <td>3.0</td>\n",
       "      <td>0.0</td>\n",
       "      <td>NaN</td>\n",
       "      <td>NaN</td>\n",
       "      <td>notpresent</td>\n",
       "      <td>notpresent</td>\n",
       "      <td>74.0</td>\n",
       "      <td>...</td>\n",
       "      <td>39</td>\n",
       "      <td>7800</td>\n",
       "      <td>4.4</td>\n",
       "      <td>1</td>\n",
       "      <td>1</td>\n",
       "      <td>0</td>\n",
       "      <td>good</td>\n",
       "      <td>1</td>\n",
       "      <td>0</td>\n",
       "      <td>ckd</td>\n",
       "    </tr>\n",
       "    <tr>\n",
       "      <th>6</th>\n",
       "      <td>68.0</td>\n",
       "      <td>70.0</td>\n",
       "      <td>1.010</td>\n",
       "      <td>0.0</td>\n",
       "      <td>0.0</td>\n",
       "      <td>NaN</td>\n",
       "      <td>normal</td>\n",
       "      <td>notpresent</td>\n",
       "      <td>notpresent</td>\n",
       "      <td>100.0</td>\n",
       "      <td>...</td>\n",
       "      <td>36</td>\n",
       "      <td>NaN</td>\n",
       "      <td>NaN</td>\n",
       "      <td>0</td>\n",
       "      <td>0</td>\n",
       "      <td>0</td>\n",
       "      <td>good</td>\n",
       "      <td>0</td>\n",
       "      <td>0</td>\n",
       "      <td>ckd</td>\n",
       "    </tr>\n",
       "    <tr>\n",
       "      <th>7</th>\n",
       "      <td>24.0</td>\n",
       "      <td>NaN</td>\n",
       "      <td>1.015</td>\n",
       "      <td>2.0</td>\n",
       "      <td>4.0</td>\n",
       "      <td>normal</td>\n",
       "      <td>abnormal</td>\n",
       "      <td>notpresent</td>\n",
       "      <td>notpresent</td>\n",
       "      <td>410.0</td>\n",
       "      <td>...</td>\n",
       "      <td>44</td>\n",
       "      <td>6900</td>\n",
       "      <td>5</td>\n",
       "      <td>0</td>\n",
       "      <td>1</td>\n",
       "      <td>0</td>\n",
       "      <td>good</td>\n",
       "      <td>1</td>\n",
       "      <td>0</td>\n",
       "      <td>ckd</td>\n",
       "    </tr>\n",
       "    <tr>\n",
       "      <th>8</th>\n",
       "      <td>52.0</td>\n",
       "      <td>100.0</td>\n",
       "      <td>1.015</td>\n",
       "      <td>3.0</td>\n",
       "      <td>0.0</td>\n",
       "      <td>normal</td>\n",
       "      <td>abnormal</td>\n",
       "      <td>present</td>\n",
       "      <td>notpresent</td>\n",
       "      <td>138.0</td>\n",
       "      <td>...</td>\n",
       "      <td>33</td>\n",
       "      <td>9600</td>\n",
       "      <td>4.0</td>\n",
       "      <td>1</td>\n",
       "      <td>1</td>\n",
       "      <td>0</td>\n",
       "      <td>good</td>\n",
       "      <td>0</td>\n",
       "      <td>1</td>\n",
       "      <td>ckd</td>\n",
       "    </tr>\n",
       "    <tr>\n",
       "      <th>9</th>\n",
       "      <td>53.0</td>\n",
       "      <td>90.0</td>\n",
       "      <td>1.020</td>\n",
       "      <td>2.0</td>\n",
       "      <td>0.0</td>\n",
       "      <td>abnormal</td>\n",
       "      <td>abnormal</td>\n",
       "      <td>present</td>\n",
       "      <td>notpresent</td>\n",
       "      <td>70.0</td>\n",
       "      <td>...</td>\n",
       "      <td>29</td>\n",
       "      <td>12100</td>\n",
       "      <td>3.7</td>\n",
       "      <td>1</td>\n",
       "      <td>1</td>\n",
       "      <td>0</td>\n",
       "      <td>poor</td>\n",
       "      <td>0</td>\n",
       "      <td>1</td>\n",
       "      <td>ckd</td>\n",
       "    </tr>\n",
       "    <tr>\n",
       "      <th>10</th>\n",
       "      <td>50.0</td>\n",
       "      <td>60.0</td>\n",
       "      <td>1.010</td>\n",
       "      <td>2.0</td>\n",
       "      <td>4.0</td>\n",
       "      <td>NaN</td>\n",
       "      <td>abnormal</td>\n",
       "      <td>present</td>\n",
       "      <td>notpresent</td>\n",
       "      <td>490.0</td>\n",
       "      <td>...</td>\n",
       "      <td>28</td>\n",
       "      <td>NaN</td>\n",
       "      <td>NaN</td>\n",
       "      <td>1</td>\n",
       "      <td>1</td>\n",
       "      <td>0</td>\n",
       "      <td>good</td>\n",
       "      <td>0</td>\n",
       "      <td>1</td>\n",
       "      <td>ckd</td>\n",
       "    </tr>\n",
       "    <tr>\n",
       "      <th>11</th>\n",
       "      <td>63.0</td>\n",
       "      <td>70.0</td>\n",
       "      <td>1.010</td>\n",
       "      <td>3.0</td>\n",
       "      <td>0.0</td>\n",
       "      <td>abnormal</td>\n",
       "      <td>abnormal</td>\n",
       "      <td>present</td>\n",
       "      <td>notpresent</td>\n",
       "      <td>380.0</td>\n",
       "      <td>...</td>\n",
       "      <td>32</td>\n",
       "      <td>4500</td>\n",
       "      <td>3.8</td>\n",
       "      <td>1</td>\n",
       "      <td>1</td>\n",
       "      <td>0</td>\n",
       "      <td>poor</td>\n",
       "      <td>1</td>\n",
       "      <td>0</td>\n",
       "      <td>ckd</td>\n",
       "    </tr>\n",
       "    <tr>\n",
       "      <th>12</th>\n",
       "      <td>68.0</td>\n",
       "      <td>70.0</td>\n",
       "      <td>1.015</td>\n",
       "      <td>3.0</td>\n",
       "      <td>1.0</td>\n",
       "      <td>NaN</td>\n",
       "      <td>normal</td>\n",
       "      <td>present</td>\n",
       "      <td>notpresent</td>\n",
       "      <td>208.0</td>\n",
       "      <td>...</td>\n",
       "      <td>28</td>\n",
       "      <td>12200</td>\n",
       "      <td>3.4</td>\n",
       "      <td>1</td>\n",
       "      <td>1</td>\n",
       "      <td>1</td>\n",
       "      <td>poor</td>\n",
       "      <td>1</td>\n",
       "      <td>0</td>\n",
       "      <td>ckd</td>\n",
       "    </tr>\n",
       "    <tr>\n",
       "      <th>13</th>\n",
       "      <td>68.0</td>\n",
       "      <td>70.0</td>\n",
       "      <td>NaN</td>\n",
       "      <td>NaN</td>\n",
       "      <td>NaN</td>\n",
       "      <td>NaN</td>\n",
       "      <td>NaN</td>\n",
       "      <td>notpresent</td>\n",
       "      <td>notpresent</td>\n",
       "      <td>98.0</td>\n",
       "      <td>...</td>\n",
       "      <td>NaN</td>\n",
       "      <td>NaN</td>\n",
       "      <td>NaN</td>\n",
       "      <td>1</td>\n",
       "      <td>1</td>\n",
       "      <td>1</td>\n",
       "      <td>poor</td>\n",
       "      <td>1</td>\n",
       "      <td>0</td>\n",
       "      <td>ckd</td>\n",
       "    </tr>\n",
       "    <tr>\n",
       "      <th>14</th>\n",
       "      <td>68.0</td>\n",
       "      <td>80.0</td>\n",
       "      <td>1.010</td>\n",
       "      <td>3.0</td>\n",
       "      <td>2.0</td>\n",
       "      <td>normal</td>\n",
       "      <td>abnormal</td>\n",
       "      <td>present</td>\n",
       "      <td>present</td>\n",
       "      <td>157.0</td>\n",
       "      <td>...</td>\n",
       "      <td>16</td>\n",
       "      <td>11000</td>\n",
       "      <td>2.6</td>\n",
       "      <td>1</td>\n",
       "      <td>1</td>\n",
       "      <td>1</td>\n",
       "      <td>poor</td>\n",
       "      <td>1</td>\n",
       "      <td>0</td>\n",
       "      <td>ckd</td>\n",
       "    </tr>\n",
       "  </tbody>\n",
       "</table>\n",
       "<p>15 rows × 25 columns</p>\n",
       "</div>"
      ],
      "text/plain": [
       "     age     bp     sg   al   su       rbc        pc         pcc          ba  \\\n",
       "0   48.0   80.0  1.020  1.0  0.0       NaN    normal  notpresent  notpresent   \n",
       "1    7.0   50.0  1.020  4.0  0.0       NaN    normal  notpresent  notpresent   \n",
       "2   62.0   80.0  1.010  2.0  3.0    normal    normal  notpresent  notpresent   \n",
       "3   48.0   70.0  1.005  4.0  0.0    normal  abnormal     present  notpresent   \n",
       "4   51.0   80.0  1.010  2.0  0.0    normal    normal  notpresent  notpresent   \n",
       "5   60.0   90.0  1.015  3.0  0.0       NaN       NaN  notpresent  notpresent   \n",
       "6   68.0   70.0  1.010  0.0  0.0       NaN    normal  notpresent  notpresent   \n",
       "7   24.0    NaN  1.015  2.0  4.0    normal  abnormal  notpresent  notpresent   \n",
       "8   52.0  100.0  1.015  3.0  0.0    normal  abnormal     present  notpresent   \n",
       "9   53.0   90.0  1.020  2.0  0.0  abnormal  abnormal     present  notpresent   \n",
       "10  50.0   60.0  1.010  2.0  4.0       NaN  abnormal     present  notpresent   \n",
       "11  63.0   70.0  1.010  3.0  0.0  abnormal  abnormal     present  notpresent   \n",
       "12  68.0   70.0  1.015  3.0  1.0       NaN    normal     present  notpresent   \n",
       "13  68.0   70.0    NaN  NaN  NaN       NaN       NaN  notpresent  notpresent   \n",
       "14  68.0   80.0  1.010  3.0  2.0    normal  abnormal     present     present   \n",
       "\n",
       "      bgr  ...  pcv     wc   rc  htn  dm cad appet pe ane classification  \n",
       "0   121.0  ...   44   7800  5.2    1   1   0  good  0   0            ckd  \n",
       "1     NaN  ...   38   6000  NaN    0   0   0  good  0   0            ckd  \n",
       "2   423.0  ...   31   7500  NaN    0   1   0  poor  0   1            ckd  \n",
       "3   117.0  ...   32   6700  3.9    1   0   0  poor  1   1            ckd  \n",
       "4   106.0  ...   35   7300  4.6    0   0   0  good  0   0            ckd  \n",
       "5    74.0  ...   39   7800  4.4    1   1   0  good  1   0            ckd  \n",
       "6   100.0  ...   36    NaN  NaN    0   0   0  good  0   0            ckd  \n",
       "7   410.0  ...   44   6900    5    0   1   0  good  1   0            ckd  \n",
       "8   138.0  ...   33   9600  4.0    1   1   0  good  0   1            ckd  \n",
       "9    70.0  ...   29  12100  3.7    1   1   0  poor  0   1            ckd  \n",
       "10  490.0  ...   28    NaN  NaN    1   1   0  good  0   1            ckd  \n",
       "11  380.0  ...   32   4500  3.8    1   1   0  poor  1   0            ckd  \n",
       "12  208.0  ...   28  12200  3.4    1   1   1  poor  1   0            ckd  \n",
       "13   98.0  ...  NaN    NaN  NaN    1   1   1  poor  1   0            ckd  \n",
       "14  157.0  ...   16  11000  2.6    1   1   1  poor  1   0            ckd  \n",
       "\n",
       "[15 rows x 25 columns]"
      ]
     },
     "execution_count": 12,
     "metadata": {},
     "output_type": "execute_result"
    }
   ],
   "source": [
    "kidney_df.head(15)"
   ]
  },
  {
   "cell_type": "code",
   "execution_count": 11,
   "id": "1e67719b",
   "metadata": {},
   "outputs": [
    {
     "data": {
      "text/html": [
       "<div>\n",
       "<style scoped>\n",
       "    .dataframe tbody tr th:only-of-type {\n",
       "        vertical-align: middle;\n",
       "    }\n",
       "\n",
       "    .dataframe tbody tr th {\n",
       "        vertical-align: top;\n",
       "    }\n",
       "\n",
       "    .dataframe thead th {\n",
       "        text-align: right;\n",
       "    }\n",
       "</style>\n",
       "<table border=\"1\" class=\"dataframe\">\n",
       "  <thead>\n",
       "    <tr style=\"text-align: right;\">\n",
       "      <th></th>\n",
       "      <th>age</th>\n",
       "      <th>bp</th>\n",
       "      <th>sg</th>\n",
       "      <th>al</th>\n",
       "      <th>su</th>\n",
       "      <th>rbc</th>\n",
       "      <th>pc</th>\n",
       "      <th>pcc</th>\n",
       "      <th>ba</th>\n",
       "      <th>bgr</th>\n",
       "      <th>...</th>\n",
       "      <th>pcv</th>\n",
       "      <th>wc</th>\n",
       "      <th>rc</th>\n",
       "      <th>htn</th>\n",
       "      <th>dm</th>\n",
       "      <th>cad</th>\n",
       "      <th>appet</th>\n",
       "      <th>pe</th>\n",
       "      <th>ane</th>\n",
       "      <th>classification</th>\n",
       "    </tr>\n",
       "  </thead>\n",
       "  <tbody>\n",
       "    <tr>\n",
       "      <th>0</th>\n",
       "      <td>48.0</td>\n",
       "      <td>80.0</td>\n",
       "      <td>1.020</td>\n",
       "      <td>1.0</td>\n",
       "      <td>0.0</td>\n",
       "      <td>NaN</td>\n",
       "      <td>normal</td>\n",
       "      <td>notpresent</td>\n",
       "      <td>notpresent</td>\n",
       "      <td>121.0</td>\n",
       "      <td>...</td>\n",
       "      <td>44.0</td>\n",
       "      <td>7800.0</td>\n",
       "      <td>5.2</td>\n",
       "      <td>1</td>\n",
       "      <td>1</td>\n",
       "      <td>0</td>\n",
       "      <td>good</td>\n",
       "      <td>0</td>\n",
       "      <td>0</td>\n",
       "      <td>ckd</td>\n",
       "    </tr>\n",
       "    <tr>\n",
       "      <th>1</th>\n",
       "      <td>7.0</td>\n",
       "      <td>50.0</td>\n",
       "      <td>1.020</td>\n",
       "      <td>4.0</td>\n",
       "      <td>0.0</td>\n",
       "      <td>NaN</td>\n",
       "      <td>normal</td>\n",
       "      <td>notpresent</td>\n",
       "      <td>notpresent</td>\n",
       "      <td>121.0</td>\n",
       "      <td>...</td>\n",
       "      <td>38.0</td>\n",
       "      <td>6000.0</td>\n",
       "      <td>5.2</td>\n",
       "      <td>0</td>\n",
       "      <td>0</td>\n",
       "      <td>0</td>\n",
       "      <td>good</td>\n",
       "      <td>0</td>\n",
       "      <td>0</td>\n",
       "      <td>ckd</td>\n",
       "    </tr>\n",
       "    <tr>\n",
       "      <th>2</th>\n",
       "      <td>62.0</td>\n",
       "      <td>80.0</td>\n",
       "      <td>1.010</td>\n",
       "      <td>2.0</td>\n",
       "      <td>3.0</td>\n",
       "      <td>normal</td>\n",
       "      <td>normal</td>\n",
       "      <td>notpresent</td>\n",
       "      <td>notpresent</td>\n",
       "      <td>423.0</td>\n",
       "      <td>...</td>\n",
       "      <td>31.0</td>\n",
       "      <td>7500.0</td>\n",
       "      <td>5.2</td>\n",
       "      <td>0</td>\n",
       "      <td>1</td>\n",
       "      <td>0</td>\n",
       "      <td>poor</td>\n",
       "      <td>0</td>\n",
       "      <td>1</td>\n",
       "      <td>ckd</td>\n",
       "    </tr>\n",
       "    <tr>\n",
       "      <th>3</th>\n",
       "      <td>48.0</td>\n",
       "      <td>70.0</td>\n",
       "      <td>1.005</td>\n",
       "      <td>4.0</td>\n",
       "      <td>0.0</td>\n",
       "      <td>normal</td>\n",
       "      <td>abnormal</td>\n",
       "      <td>present</td>\n",
       "      <td>notpresent</td>\n",
       "      <td>117.0</td>\n",
       "      <td>...</td>\n",
       "      <td>32.0</td>\n",
       "      <td>6700.0</td>\n",
       "      <td>3.9</td>\n",
       "      <td>1</td>\n",
       "      <td>0</td>\n",
       "      <td>0</td>\n",
       "      <td>poor</td>\n",
       "      <td>1</td>\n",
       "      <td>1</td>\n",
       "      <td>ckd</td>\n",
       "    </tr>\n",
       "    <tr>\n",
       "      <th>4</th>\n",
       "      <td>51.0</td>\n",
       "      <td>80.0</td>\n",
       "      <td>1.010</td>\n",
       "      <td>2.0</td>\n",
       "      <td>0.0</td>\n",
       "      <td>normal</td>\n",
       "      <td>normal</td>\n",
       "      <td>notpresent</td>\n",
       "      <td>notpresent</td>\n",
       "      <td>106.0</td>\n",
       "      <td>...</td>\n",
       "      <td>35.0</td>\n",
       "      <td>7300.0</td>\n",
       "      <td>4.6</td>\n",
       "      <td>0</td>\n",
       "      <td>0</td>\n",
       "      <td>0</td>\n",
       "      <td>good</td>\n",
       "      <td>0</td>\n",
       "      <td>0</td>\n",
       "      <td>ckd</td>\n",
       "    </tr>\n",
       "  </tbody>\n",
       "</table>\n",
       "<p>5 rows × 25 columns</p>\n",
       "</div>"
      ],
      "text/plain": [
       "    age    bp     sg   al   su     rbc        pc         pcc          ba  \\\n",
       "0  48.0  80.0  1.020  1.0  0.0     NaN    normal  notpresent  notpresent   \n",
       "1   7.0  50.0  1.020  4.0  0.0     NaN    normal  notpresent  notpresent   \n",
       "2  62.0  80.0  1.010  2.0  3.0  normal    normal  notpresent  notpresent   \n",
       "3  48.0  70.0  1.005  4.0  0.0  normal  abnormal     present  notpresent   \n",
       "4  51.0  80.0  1.010  2.0  0.0  normal    normal  notpresent  notpresent   \n",
       "\n",
       "     bgr  ...   pcv      wc   rc  htn  dm  cad  appet  pe ane classification  \n",
       "0  121.0  ...  44.0  7800.0  5.2    1   1    0   good   0   0            ckd  \n",
       "1  121.0  ...  38.0  6000.0  5.2    0   0    0   good   0   0            ckd  \n",
       "2  423.0  ...  31.0  7500.0  5.2    0   1    0   poor   0   1            ckd  \n",
       "3  117.0  ...  32.0  6700.0  3.9    1   0    0   poor   1   1            ckd  \n",
       "4  106.0  ...  35.0  7300.0  4.6    0   0    0   good   0   0            ckd  \n",
       "\n",
       "[5 rows x 25 columns]"
      ]
     },
     "execution_count": 11,
     "metadata": {},
     "output_type": "execute_result"
    }
   ],
   "source": [
    "#Median imputation for numeric data\n",
    "rol=kidney_df[['bp','sg','al','su','bgr','bu','sc','sod','pot','hemo','pcv','wc','rc']]\n",
    "for i in rol:\n",
    "    kidney_df[i] = kidney_df[i].replace(np.nan).astype(float)\n",
    "    kidney_df[i] = kidney_df[i].fillna((kidney_df[i].median()))\n",
    "kidney_df.head()"
   ]
  },
  {
   "cell_type": "code",
   "execution_count": 12,
   "id": "e31c32e6",
   "metadata": {},
   "outputs": [
    {
     "data": {
      "text/html": [
       "<div>\n",
       "<style scoped>\n",
       "    .dataframe tbody tr th:only-of-type {\n",
       "        vertical-align: middle;\n",
       "    }\n",
       "\n",
       "    .dataframe tbody tr th {\n",
       "        vertical-align: top;\n",
       "    }\n",
       "\n",
       "    .dataframe thead th {\n",
       "        text-align: right;\n",
       "    }\n",
       "</style>\n",
       "<table border=\"1\" class=\"dataframe\">\n",
       "  <thead>\n",
       "    <tr style=\"text-align: right;\">\n",
       "      <th></th>\n",
       "      <th>age</th>\n",
       "      <th>bp</th>\n",
       "      <th>sg</th>\n",
       "      <th>al</th>\n",
       "      <th>su</th>\n",
       "      <th>rbc</th>\n",
       "      <th>pc</th>\n",
       "      <th>pcc</th>\n",
       "      <th>ba</th>\n",
       "      <th>bgr</th>\n",
       "      <th>...</th>\n",
       "      <th>pcv</th>\n",
       "      <th>wc</th>\n",
       "      <th>rc</th>\n",
       "      <th>htn</th>\n",
       "      <th>dm</th>\n",
       "      <th>cad</th>\n",
       "      <th>appet</th>\n",
       "      <th>pe</th>\n",
       "      <th>ane</th>\n",
       "      <th>classification</th>\n",
       "    </tr>\n",
       "  </thead>\n",
       "  <tbody>\n",
       "    <tr>\n",
       "      <th>0</th>\n",
       "      <td>48.0</td>\n",
       "      <td>80.0</td>\n",
       "      <td>1.020</td>\n",
       "      <td>1.0</td>\n",
       "      <td>0.0</td>\n",
       "      <td>normal</td>\n",
       "      <td>normal</td>\n",
       "      <td>notpresent</td>\n",
       "      <td>notpresent</td>\n",
       "      <td>121.0</td>\n",
       "      <td>...</td>\n",
       "      <td>44.0</td>\n",
       "      <td>7800.0</td>\n",
       "      <td>5.2</td>\n",
       "      <td>1</td>\n",
       "      <td>1</td>\n",
       "      <td>0</td>\n",
       "      <td>good</td>\n",
       "      <td>0</td>\n",
       "      <td>0</td>\n",
       "      <td>ckd</td>\n",
       "    </tr>\n",
       "    <tr>\n",
       "      <th>1</th>\n",
       "      <td>7.0</td>\n",
       "      <td>50.0</td>\n",
       "      <td>1.020</td>\n",
       "      <td>4.0</td>\n",
       "      <td>0.0</td>\n",
       "      <td>normal</td>\n",
       "      <td>normal</td>\n",
       "      <td>notpresent</td>\n",
       "      <td>notpresent</td>\n",
       "      <td>121.0</td>\n",
       "      <td>...</td>\n",
       "      <td>38.0</td>\n",
       "      <td>6000.0</td>\n",
       "      <td>5.2</td>\n",
       "      <td>0</td>\n",
       "      <td>0</td>\n",
       "      <td>0</td>\n",
       "      <td>good</td>\n",
       "      <td>0</td>\n",
       "      <td>0</td>\n",
       "      <td>ckd</td>\n",
       "    </tr>\n",
       "    <tr>\n",
       "      <th>2</th>\n",
       "      <td>62.0</td>\n",
       "      <td>80.0</td>\n",
       "      <td>1.010</td>\n",
       "      <td>2.0</td>\n",
       "      <td>3.0</td>\n",
       "      <td>normal</td>\n",
       "      <td>normal</td>\n",
       "      <td>notpresent</td>\n",
       "      <td>notpresent</td>\n",
       "      <td>423.0</td>\n",
       "      <td>...</td>\n",
       "      <td>31.0</td>\n",
       "      <td>7500.0</td>\n",
       "      <td>5.2</td>\n",
       "      <td>0</td>\n",
       "      <td>1</td>\n",
       "      <td>0</td>\n",
       "      <td>poor</td>\n",
       "      <td>0</td>\n",
       "      <td>1</td>\n",
       "      <td>ckd</td>\n",
       "    </tr>\n",
       "    <tr>\n",
       "      <th>3</th>\n",
       "      <td>48.0</td>\n",
       "      <td>70.0</td>\n",
       "      <td>1.005</td>\n",
       "      <td>4.0</td>\n",
       "      <td>0.0</td>\n",
       "      <td>normal</td>\n",
       "      <td>abnormal</td>\n",
       "      <td>present</td>\n",
       "      <td>notpresent</td>\n",
       "      <td>117.0</td>\n",
       "      <td>...</td>\n",
       "      <td>32.0</td>\n",
       "      <td>6700.0</td>\n",
       "      <td>3.9</td>\n",
       "      <td>1</td>\n",
       "      <td>0</td>\n",
       "      <td>0</td>\n",
       "      <td>poor</td>\n",
       "      <td>1</td>\n",
       "      <td>1</td>\n",
       "      <td>ckd</td>\n",
       "    </tr>\n",
       "    <tr>\n",
       "      <th>4</th>\n",
       "      <td>51.0</td>\n",
       "      <td>80.0</td>\n",
       "      <td>1.010</td>\n",
       "      <td>2.0</td>\n",
       "      <td>0.0</td>\n",
       "      <td>normal</td>\n",
       "      <td>normal</td>\n",
       "      <td>notpresent</td>\n",
       "      <td>notpresent</td>\n",
       "      <td>106.0</td>\n",
       "      <td>...</td>\n",
       "      <td>35.0</td>\n",
       "      <td>7300.0</td>\n",
       "      <td>4.6</td>\n",
       "      <td>0</td>\n",
       "      <td>0</td>\n",
       "      <td>0</td>\n",
       "      <td>good</td>\n",
       "      <td>0</td>\n",
       "      <td>0</td>\n",
       "      <td>ckd</td>\n",
       "    </tr>\n",
       "  </tbody>\n",
       "</table>\n",
       "<p>5 rows × 25 columns</p>\n",
       "</div>"
      ],
      "text/plain": [
       "    age    bp     sg   al   su     rbc        pc         pcc          ba  \\\n",
       "0  48.0  80.0  1.020  1.0  0.0  normal    normal  notpresent  notpresent   \n",
       "1   7.0  50.0  1.020  4.0  0.0  normal    normal  notpresent  notpresent   \n",
       "2  62.0  80.0  1.010  2.0  3.0  normal    normal  notpresent  notpresent   \n",
       "3  48.0  70.0  1.005  4.0  0.0  normal  abnormal     present  notpresent   \n",
       "4  51.0  80.0  1.010  2.0  0.0  normal    normal  notpresent  notpresent   \n",
       "\n",
       "     bgr  ...   pcv      wc   rc  htn  dm  cad  appet  pe ane classification  \n",
       "0  121.0  ...  44.0  7800.0  5.2    1   1    0   good   0   0            ckd  \n",
       "1  121.0  ...  38.0  6000.0  5.2    0   0    0   good   0   0            ckd  \n",
       "2  423.0  ...  31.0  7500.0  5.2    0   1    0   poor   0   1            ckd  \n",
       "3  117.0  ...  32.0  6700.0  3.9    1   0    0   poor   1   1            ckd  \n",
       "4  106.0  ...  35.0  7300.0  4.6    0   0    0   good   0   0            ckd  \n",
       "\n",
       "[5 rows x 25 columns]"
      ]
     },
     "execution_count": 12,
     "metadata": {},
     "output_type": "execute_result"
    }
   ],
   "source": [
    "#Mode imputation for categorical data\n",
    "mol=kidney_df[['rbc','pc','pcc','ba','bgr','htn','dm','cad','appet','pe','ane','classification']]\n",
    "for i in mol:\n",
    "    kidney_df[i]=kidney_df[i].fillna(kidney_df[i].mode().loc[0])\n",
    "kidney_df.head()"
   ]
  },
  {
   "cell_type": "code",
   "execution_count": 14,
   "id": "7b9d19e9",
   "metadata": {},
   "outputs": [
    {
     "data": {
      "text/plain": [
       "age               0\n",
       "bp                0\n",
       "sg                0\n",
       "al                0\n",
       "su                0\n",
       "rbc               0\n",
       "pc                0\n",
       "pcc               0\n",
       "ba                0\n",
       "bgr               0\n",
       "bu                0\n",
       "sc                0\n",
       "sod               0\n",
       "pot               0\n",
       "hemo              0\n",
       "pcv               0\n",
       "wc                0\n",
       "rc                0\n",
       "htn               0\n",
       "dm                0\n",
       "cad               0\n",
       "appet             0\n",
       "pe                0\n",
       "ane               0\n",
       "classification    0\n",
       "dtype: int64"
      ]
     },
     "execution_count": 14,
     "metadata": {},
     "output_type": "execute_result"
    }
   ],
   "source": [
    "#After median,mode imputation checking for null values\n",
    "kidney_df.isnull().sum()"
   ]
  },
  {
   "cell_type": "code",
   "execution_count": 15,
   "id": "0adaeb39",
   "metadata": {},
   "outputs": [
    {
     "name": "stdout",
     "output_type": "stream",
     "text": [
      "bp \t [ 80.  50.  70.  90. 100.  60. 110. 140. 180. 120.]\n",
      "sg \t [1.02  1.01  1.005 1.015 1.025]\n",
      "al \t [1. 4. 2. 3. 0. 5.]\n",
      "su \t [0. 3. 4. 1. 2. 5.]\n",
      "rbc \t ['normal' 'abnormal']\n",
      "pc \t ['normal' 'abnormal']\n",
      "pcc \t ['notpresent' 'present']\n",
      "ba \t ['notpresent' 'present']\n",
      "bgr \t [121. 423. 117. 106.  74. 100. 410. 138.  70. 490. 380. 208.  98. 157.\n",
      "  76.  99. 114. 263. 173.  95. 108. 156. 264. 123. 107. 159. 140. 171.\n",
      " 270.  92. 137. 204.  79. 207. 124. 144.  91. 162. 246.  93. 253. 141.\n",
      " 182.  86. 150. 146. 425. 112. 250. 360. 163. 129. 133. 102. 158. 165.\n",
      " 132. 104. 127. 415. 169. 251. 109. 280. 210. 219. 295.  94. 172. 101.\n",
      " 298. 153.  88. 226. 143. 115.  89. 297. 233. 294. 323. 125.  90. 308.\n",
      " 118. 224. 128. 122. 214. 213. 268. 256.  84. 105. 288. 139.  78. 273.\n",
      " 242. 424. 303. 148. 160. 192. 307. 447. 309.  22. 111. 261. 215. 234.\n",
      " 131. 352.  80. 239. 130. 184. 252. 113. 230. 341. 255. 103. 238. 248.\n",
      " 120. 241. 269. 201. 203. 463. 176.  82. 119.  97.  96.  81. 110. 116.\n",
      " 134.  85.  83.  87.  75.]\n",
      "bu \t [ 36.   18.   53.   56.   26.   25.   54.   31.   60.  107.   55.   72.\n",
      "  86.   90.  162.   46.   87.   27.  148.  180.  163.   50.   75.   45.\n",
      "  28.   33.   39.  153.   29.   65.  103.   70.   80.   20.  202.   77.\n",
      "  89.   24.   17.   32.  114.   66.   38.  164.  155.  142.   96.  391.\n",
      "  15.  111.   73.   19.   92.   35.   16.  139.   48.   85.   98.  186.\n",
      "  37.   47.   52.   82.   51.  106.   22.  217.   88.  118.   50.1  71.\n",
      "  40.   21.  219.   30.  125.  166.   49.  208.  176.   68.  145.  165.\n",
      " 322.   23.  235.  132.   76.   42.   34.   44.   41.  113.    1.5 146.\n",
      "  58.  133.  137.   67.  223.   98.6 158.   94.   74.  150.   61.   57.\n",
      "  95.  191.   93.  241.   64.   79.  215.  309.   10. ]\n",
      "sc \t [ 1.2   0.8   1.8   3.8   1.4   1.1  24.    1.9   7.2   4.    2.7   2.1\n",
      "  4.6   4.1   9.6   2.2   5.2   1.3   1.6   3.9  76.    7.7   2.4   1.5\n",
      "  2.5   2.    3.4   0.7   1.   10.8   6.3   5.9   0.9   3.    3.25  9.7\n",
      "  7.3   6.4   3.2  32.    0.6   6.1   3.3   6.7   8.5   2.8  15.    2.9\n",
      "  1.7   3.6   5.6   6.5   4.4  10.2  11.5  12.2   5.3   9.2  13.8  16.9\n",
      "  6.    7.1  18.    2.3  13.   48.1  14.2  16.4   2.6   7.5   4.3  18.1\n",
      " 11.8   9.3  13.5  12.8  11.9  12.   13.4  15.2  13.3   0.5   0.4 ]\n",
      "sod \t [138.  111.  142.  104.  114.  131.  135.  130.  141.  139.    4.5 136.\n",
      " 129.  140.  133.  132.  134.  125.  163.  137.  128.  143.  127.  146.\n",
      " 126.  122.  147.  124.  115.  145.  113.  120.  150.  144. ]\n",
      "pot \t [ 4.4  2.5  3.2  4.   3.7  4.2  5.8  3.4  6.4  4.9  4.1  4.3  5.2  3.8\n",
      "  4.6  3.9  4.7  5.9  4.8  6.6 39.   5.5  5.   3.5  3.6  7.6  2.9  4.5\n",
      "  5.7  5.4  5.3 47.   6.3  5.1  5.6  3.   2.8  6.5  3.3]\n",
      "hemo \t [15.4 11.3  9.6 11.2 11.6 12.2 12.4 10.8  9.5  9.4  9.7  9.8  5.6  7.6\n",
      " 12.6 12.1 12.7 10.3  7.7 10.9 11.1  9.9 12.5 12.9 10.1 12.  13.   7.9\n",
      "  9.3 15.  10.   8.6 13.6 10.2 10.5  6.6 11.   7.5 15.6 15.2  9.1  8.1\n",
      " 11.9 13.5  8.3  7.1 16.1 10.4  9.2  6.2 13.9 14.1  6.  11.8 11.7 11.4\n",
      " 14.   8.2 13.2  6.1  8.  12.3  8.4 14.3  9.   8.7 10.6 13.1 10.7  5.5\n",
      "  5.8  6.8  8.8 13.8 11.5  7.3 13.7 12.8 13.4  6.3  3.1 17.  15.9 14.5\n",
      " 15.5 16.2 14.4 14.2 14.8 16.5 15.7 16.3 13.3 14.6 16.4 16.9 16.  14.7\n",
      " 16.6 14.9 16.7 16.8 15.8 15.1 17.1 17.2 15.3 17.3 17.4 17.7 17.8 17.5\n",
      " 17.6]\n",
      "pcv \t [44. 38. 31. 32. 35. 39. 36. 33. 29. 28. 16. 24. 37. 30. 34. 40. 45. 27.\n",
      " 48. 52. 22. 18. 42. 17. 46. 23. 19. 25. 41. 26. 15. 21. 43. 20. 47.  9.\n",
      " 49. 50. 51. 53. 54.]\n",
      "wc \t [ 7800.  6000.  7500.  6700.  7300.  6900.  9600. 12100.  4500. 12200.\n",
      " 11000.  3800. 11400.  5300.  9200.  6200.  8300.  8400. 10300.  9800.\n",
      "  9100.  7900.  6400.  8600. 18900. 21600.  4300.  8500. 11300.  7200.\n",
      "  7700. 14600.  7100. 11800.  9400.  5500.  5800. 13200. 12500.  5600.\n",
      "  7000. 11900. 10400. 10700. 12700.  6800.  6500. 13600. 10200.  9000.\n",
      " 14900.  8200. 15200.  5000. 16300. 12400. 10500.  4200.  4700. 10900.\n",
      "  8100.  9500.  2200. 12800. 11200. 19100. 12300. 16700.  2600. 26400.\n",
      "  8800.  7400.  4900.  8000. 12000. 15700.  4100.  5700. 11500.  5400.\n",
      "  6300. 10800.  9900.  5200.  5900.  9300.  9700.  5100.  6600.]\n",
      "rc \t [5.2 3.9 4.6 4.4 5.  4.  3.7 3.8 3.4 2.6 2.8 4.3 3.2 3.6 4.1 4.9 2.5 4.2\n",
      " 4.5 3.1 4.7 3.5 6.  2.1 5.6 2.3 2.9 2.7 8.  3.3 3.  2.4 4.8 5.4 6.1 6.2\n",
      " 6.3 5.1 5.8 5.5 5.3 6.4 5.7 5.9 6.5]\n",
      "htn \t ['1' '0']\n",
      "dm \t ['1' '0']\n",
      "cad \t ['0' '1']\n",
      "appet \t ['good' 'poor']\n",
      "pe \t ['0' '1']\n",
      "ane \t ['0' '1']\n",
      "classification \t ['ckd' 'notckd']\n"
     ]
    }
   ],
   "source": [
    "col=kidney_df[['bp','sg','al','su',\n",
    "               'rbc','pc','pcc','ba','bgr',\n",
    "               'bu','sc','sod','pot','hemo',\n",
    "               'pcv','wc','rc','htn','dm',\n",
    "               'cad','appet','pe','ane','classification']]\n",
    "for i in col:\n",
    "    print(i,\"\\t\",col[i].unique())    "
   ]
  },
  {
   "cell_type": "markdown",
   "id": "936e271b",
   "metadata": {},
   "source": [
    "# checking for outliers and its imputation\n"
   ]
  },
  {
   "cell_type": "code",
   "execution_count": 16,
   "id": "8f2c1ff6",
   "metadata": {},
   "outputs": [
    {
     "data": {
      "text/plain": [
       "<AxesSubplot:>"
      ]
     },
     "execution_count": 16,
     "metadata": {},
     "output_type": "execute_result"
    },
    {
     "data": {
      "image/png": "[encoded data removed]",
      "text/plain": [
       "<Figure size 432x288 with 1 Axes>"
      ]
     },
     "metadata": {
      "needs_background": "light"
     },
     "output_type": "display_data"
    }
   ],
   "source": [
    "out=kidney_df[['bp','sg','al','su','bgr','bu','sc','sod','pot','hemo','pcv','wc','rc']]\n",
    "out.boxplot()"
   ]
  },
  {
   "cell_type": "code",
   "execution_count": 17,
   "id": "a4b4dfec",
   "metadata": {},
   "outputs": [
    {
     "data": {
      "image/png": "[encoded data removed]",
      "text/plain": [
       "<Figure size 432x288 with 1 Axes>"
      ]
     },
     "metadata": {
      "needs_background": "light"
     },
     "output_type": "display_data"
    }
   ],
   "source": [
    "sms.boxplot(kidney_df['bgr'])\n",
    "plt.title(\"box plot before median imputation\")\n",
    "plt.show()"
   ]
  },
  {
   "cell_type": "code",
   "execution_count": 18,
   "id": "9e342d0d",
   "metadata": {},
   "outputs": [
    {
     "data": {
      "image/png": "[encoded data removed]",
      "text/plain": [
       "<Figure size 432x288 with 1 Axes>"
      ]
     },
     "metadata": {
      "needs_background": "light"
     },
     "output_type": "display_data"
    }
   ],
   "source": [
    "#Outliers\n",
    "q1 =kidney_df['bgr'].quantile(0.25)\n",
    "q3 =kidney_df['bgr'].quantile(0.75)\n",
    "iqr=q3-q1\n",
    "lower_trial=q1-1.5*iqr\n",
    "upper_trial=q3+1.5*iqr\n",
    "med=np.median(kidney_df['bgr'])\n",
    "for i in kidney_df['bgr']:\n",
    "    if i>upper_trial or i<lower_trial:\n",
    "        kidney_df['bgr']=kidney_df['bgr'].replace(i,med)\n",
    "sms.boxplot(kidney_df['bgr'])\n",
    "plt.title(\"box plot after median imputation\")\n",
    "plt.show()"
   ]
  },
  {
   "cell_type": "code",
   "execution_count": 19,
   "id": "8bb8acb8",
   "metadata": {},
   "outputs": [
    {
     "data": {
      "image/png": "[encoded data removed]",
      "text/plain": [
       "<Figure size 432x288 with 1 Axes>"
      ]
     },
     "metadata": {
      "needs_background": "light"
     },
     "output_type": "display_data"
    }
   ],
   "source": [
    "q1 =kidney_df['bgr'].quantile(0.25)\n",
    "q3 =kidney_df['bgr'].quantile(0.75)\n",
    "iqr=q3-q1\n",
    "lower_trial=q1-1.5*iqr\n",
    "upper_trial=q3+1.5*iqr\n",
    "med=np.median(kidney_df['bgr'])\n",
    "for i in kidney_df['bgr']:\n",
    "    if i>upper_trial or i<lower_trial:\n",
    "        kidney_df['bgr']=kidney_df['bgr'].replace(i,med)\n",
    "sms.boxplot(kidney_df['bgr'])\n",
    "plt.title(\"box plot after median imputation\")\n",
    "plt.show()"
   ]
  },
  {
   "cell_type": "code",
   "execution_count": 20,
   "id": "96a20811",
   "metadata": {},
   "outputs": [
    {
     "data": {
      "image/png": "[encoded data removed]",
      "text/plain": [
       "<Figure size 432x288 with 1 Axes>"
      ]
     },
     "metadata": {
      "needs_background": "light"
     },
     "output_type": "display_data"
    }
   ],
   "source": [
    "q1 =kidney_df['bgr'].quantile(0.25)\n",
    "q3 =kidney_df['bgr'].quantile(0.75)\n",
    "iqr=q3-q1\n",
    "lower_trial=q1-1.5*iqr\n",
    "upper_trial=q3+1.5*iqr\n",
    "med=np.median(kidney_df['bgr'])\n",
    "for i in kidney_df['bgr']:\n",
    "    if i>upper_trial or i<lower_trial:\n",
    "        kidney_df['bgr']=kidney_df['bgr'].replace(i,med)\n",
    "sms.boxplot(kidney_df['bgr'])\n",
    "plt.title(\"box plot after median imputation\")\n",
    "plt.show()"
   ]
  },
  {
   "cell_type": "code",
   "execution_count": 21,
   "id": "4241209b",
   "metadata": {},
   "outputs": [
    {
     "data": {
      "image/png": "[encoded data removed]",
      "text/plain": [
       "<Figure size 432x288 with 1 Axes>"
      ]
     },
     "metadata": {
      "needs_background": "light"
     },
     "output_type": "display_data"
    }
   ],
   "source": [
    "q1 =kidney_df['bgr'].quantile(0.25)\n",
    "q3 =kidney_df['bgr'].quantile(0.75)\n",
    "iqr=q3-q1\n",
    "lower_trial=q1-1.5*iqr\n",
    "upper_trial=q3+1.5*iqr\n",
    "med=np.median(kidney_df['bgr'])\n",
    "for i in kidney_df['bgr']:\n",
    "    if i>upper_trial or i<lower_trial:\n",
    "        kidney_df['bgr']=kidney_df['bgr'].replace(i,med)\n",
    "sms.boxplot(kidney_df['bgr'])\n",
    "plt.title(\"box plot after median imputation\")\n",
    "plt.show()"
   ]
  },
  {
   "cell_type": "code",
   "execution_count": 22,
   "id": "e3312776",
   "metadata": {},
   "outputs": [
    {
     "data": {
      "image/png": "[encoded data removed]",
      "text/plain": [
       "<Figure size 432x288 with 1 Axes>"
      ]
     },
     "metadata": {
      "needs_background": "light"
     },
     "output_type": "display_data"
    }
   ],
   "source": [
    "sms.boxplot(kidney_df['bu'])\n",
    "plt.title(\"box plot before median imputation\")\n",
    "plt.show()"
   ]
  },
  {
   "cell_type": "code",
   "execution_count": 23,
   "id": "01444595",
   "metadata": {},
   "outputs": [
    {
     "data": {
      "image/png": "[encoded data removed]",
      "text/plain": [
       "<Figure size 432x288 with 1 Axes>"
      ]
     },
     "metadata": {
      "needs_background": "light"
     },
     "output_type": "display_data"
    }
   ],
   "source": [
    "q1 =kidney_df['bu'].quantile(0.25)\n",
    "q3 =kidney_df['bu'].quantile(0.75)\n",
    "iqr=q3-q1\n",
    "lower_trial=q1-1.5*iqr\n",
    "upper_trial=q3+1.5*iqr\n",
    "med=np.median(kidney_df['bu'])\n",
    "for i in kidney_df['bu']:\n",
    "    if i>upper_trial or i<lower_trial:\n",
    "        kidney_df['bu']=kidney_df['bu'].replace(i,med)\n",
    "sms.boxplot(kidney_df['bu'])\n",
    "plt.title(\"box plot after median imputation\")\n",
    "plt.show()"
   ]
  },
  {
   "cell_type": "code",
   "execution_count": 24,
   "id": "a7eb859f",
   "metadata": {},
   "outputs": [
    {
     "data": {
      "image/png": "[encoded data removed]",
      "text/plain": [
       "<Figure size 432x288 with 1 Axes>"
      ]
     },
     "metadata": {
      "needs_background": "light"
     },
     "output_type": "display_data"
    }
   ],
   "source": [
    "q1 =kidney_df['bu'].quantile(0.25)\n",
    "q3 =kidney_df['bu'].quantile(0.75)\n",
    "iqr=q3-q1\n",
    "lower_trial=q1-1.5*iqr\n",
    "upper_trial=q3+1.5*iqr\n",
    "med=np.median(kidney_df['bu'])\n",
    "for i in kidney_df['bu']:\n",
    "    if i>upper_trial or i<lower_trial:\n",
    "        kidney_df['bu']=kidney_df['bu'].replace(i,med)\n",
    "sms.boxplot(kidney_df['bu'])\n",
    "plt.title(\"box plot after median imputation\")\n",
    "plt.show()"
   ]
  },
  {
   "cell_type": "code",
   "execution_count": 25,
   "id": "7c462f77",
   "metadata": {},
   "outputs": [
    {
     "data": {
      "image/png": "[encoded data removed]",
      "text/plain": [
       "<Figure size 432x288 with 1 Axes>"
      ]
     },
     "metadata": {
      "needs_background": "light"
     },
     "output_type": "display_data"
    }
   ],
   "source": [
    "q1 =kidney_df['bu'].quantile(0.25)\n",
    "q3 =kidney_df['bu'].quantile(0.75)\n",
    "iqr=q3-q1\n",
    "lower_trial=q1-1.5*iqr\n",
    "upper_trial=q3+1.5*iqr\n",
    "med=np.median(kidney_df['bu'])\n",
    "for i in kidney_df['bu']:\n",
    "    if i>upper_trial or i<lower_trial:\n",
    "        kidney_df['bu']=kidney_df['bu'].replace(i,med)\n",
    "sms.boxplot(kidney_df['bu'])\n",
    "plt.title(\"box plot after median imputation\")\n",
    "plt.show()"
   ]
  },
  {
   "cell_type": "code",
   "execution_count": 26,
   "id": "1caa88b8",
   "metadata": {},
   "outputs": [
    {
     "data": {
      "image/png": "[encoded data removed]",
      "text/plain": [
       "<Figure size 432x288 with 1 Axes>"
      ]
     },
     "metadata": {
      "needs_background": "light"
     },
     "output_type": "display_data"
    }
   ],
   "source": [
    "q1 =kidney_df['bu'].quantile(0.25)\n",
    "q3 =kidney_df['bu'].quantile(0.75)\n",
    "iqr=q3-q1\n",
    "lower_trial=q1-1.5*iqr\n",
    "upper_trial=q3+1.5*iqr\n",
    "med=np.median(kidney_df['bu'])\n",
    "for i in kidney_df['bu']:\n",
    "    if i>upper_trial or i<lower_trial:\n",
    "        kidney_df['bu']=kidney_df['bu'].replace(i,med)\n",
    "sms.boxplot(kidney_df['bu'])\n",
    "plt.title(\"box plot after median imputation\")\n",
    "plt.show()"
   ]
  },
  {
   "cell_type": "code",
   "execution_count": 27,
   "id": "88727208",
   "metadata": {},
   "outputs": [
    {
     "data": {
      "image/png": "[encoded data removed]",
      "text/plain": [
       "<Figure size 432x288 with 1 Axes>"
      ]
     },
     "metadata": {
      "needs_background": "light"
     },
     "output_type": "display_data"
    }
   ],
   "source": [
    "sms.boxplot(kidney_df['sc'])\n",
    "plt.title(\"box plot before median imputation\")\n",
    "plt.show()"
   ]
  },
  {
   "cell_type": "code",
   "execution_count": 28,
   "id": "540aa3c7",
   "metadata": {},
   "outputs": [
    {
     "data": {
      "image/png": "[encoded data removed]",
      "text/plain": [
       "<Figure size 432x288 with 1 Axes>"
      ]
     },
     "metadata": {
      "needs_background": "light"
     },
     "output_type": "display_data"
    }
   ],
   "source": [
    "q1 =kidney_df['sc'].quantile(0.25)\n",
    "q3 =kidney_df['sc'].quantile(0.75)\n",
    "iqr=q3-q1\n",
    "lower_trial=q1-1.5*iqr\n",
    "upper_trial=q3+1.5*iqr\n",
    "med=np.median(kidney_df['sc'])\n",
    "for i in kidney_df['sc']:\n",
    "    if i>upper_trial or i<lower_trial:\n",
    "        kidney_df['sc']=kidney_df['sc'].replace(i,med)\n",
    "sms.boxplot(kidney_df['sc'])\n",
    "plt.title(\"box plot after median imputation\")\n",
    "plt.show()"
   ]
  },
  {
   "cell_type": "code",
   "execution_count": 29,
   "id": "5901dd92",
   "metadata": {},
   "outputs": [
    {
     "data": {
      "image/png": "[encoded data removed]",
      "text/plain": [
       "<Figure size 432x288 with 1 Axes>"
      ]
     },
     "metadata": {
      "needs_background": "light"
     },
     "output_type": "display_data"
    }
   ],
   "source": [
    "q1 =kidney_df['sc'].quantile(0.25)\n",
    "q3 =kidney_df['sc'].quantile(0.75)\n",
    "iqr=q3-q1\n",
    "lower_trial=q1-1.5*iqr\n",
    "upper_trial=q3+1.5*iqr\n",
    "med=np.median(kidney_df['sc'])\n",
    "for i in kidney_df['sc']:\n",
    "    if i>upper_trial or i<lower_trial:\n",
    "        kidney_df['sc']=kidney_df['sc'].replace(i,med)\n",
    "sms.boxplot(kidney_df['sc'])\n",
    "plt.title(\"box plot after median imputation\")\n",
    "plt.show()"
   ]
  },
  {
   "cell_type": "code",
   "execution_count": 30,
   "id": "7f93b98f",
   "metadata": {},
   "outputs": [
    {
     "data": {
      "image/png": "[encoded data removed]",
      "text/plain": [
       "<Figure size 432x288 with 1 Axes>"
      ]
     },
     "metadata": {
      "needs_background": "light"
     },
     "output_type": "display_data"
    }
   ],
   "source": [
    "q1 =kidney_df['sc'].quantile(0.25)\n",
    "q3 =kidney_df['sc'].quantile(0.75)\n",
    "iqr=q3-q1\n",
    "lower_trial=q1-1.5*iqr\n",
    "upper_trial=q3+1.5*iqr\n",
    "med=np.median(kidney_df['sc'])\n",
    "for i in kidney_df['sc']:\n",
    "    if i>upper_trial or i<lower_trial:\n",
    "        kidney_df['sc']=kidney_df['sc'].replace(i,med)\n",
    "sms.boxplot(kidney_df['sc'])\n",
    "plt.title(\"box plot after median imputation\")\n",
    "plt.show()"
   ]
  },
  {
   "cell_type": "code",
   "execution_count": 31,
   "id": "861d5819",
   "metadata": {},
   "outputs": [
    {
     "data": {
      "image/png": "[encoded data removed]",
      "text/plain": [
       "<Figure size 432x288 with 1 Axes>"
      ]
     },
     "metadata": {
      "needs_background": "light"
     },
     "output_type": "display_data"
    }
   ],
   "source": [
    "q1 =kidney_df['sc'].quantile(0.25)\n",
    "q3 =kidney_df['sc'].quantile(0.75)\n",
    "iqr=q3-q1\n",
    "lower_trial=q1-1.5*iqr\n",
    "upper_trial=q3+1.5*iqr\n",
    "med=np.median(kidney_df['sc'])\n",
    "for i in kidney_df['sc']:\n",
    "    if i>upper_trial or i<lower_trial:\n",
    "        kidney_df['sc']=kidney_df['sc'].replace(i,med)\n",
    "sms.boxplot(kidney_df['sc'])\n",
    "plt.title(\"box plot after median imputation\")\n",
    "plt.show()"
   ]
  },
  {
   "cell_type": "code",
   "execution_count": 32,
   "id": "9ca8fe1b",
   "metadata": {},
   "outputs": [
    {
     "data": {
      "image/png": "[encoded data removed]",
      "text/plain": [
       "<Figure size 432x288 with 1 Axes>"
      ]
     },
     "metadata": {
      "needs_background": "light"
     },
     "output_type": "display_data"
    }
   ],
   "source": [
    "sms.boxplot(kidney_df['sod'])\n",
    "plt.title(\"box plot before median imputation\")\n",
    "plt.show()"
   ]
  },
  {
   "cell_type": "code",
   "execution_count": 33,
   "id": "34aacab9",
   "metadata": {},
   "outputs": [
    {
     "data": {
      "image/png": "[encoded data removed]",
      "text/plain": [
       "<Figure size 432x288 with 1 Axes>"
      ]
     },
     "metadata": {
      "needs_background": "light"
     },
     "output_type": "display_data"
    }
   ],
   "source": [
    "q1 =kidney_df['sod'].quantile(0.25)\n",
    "q3 =kidney_df['sod'].quantile(0.75)\n",
    "iqr=q3-q1\n",
    "lower_trial=q1-1.5*iqr\n",
    "upper_trial=q3+1.5*iqr\n",
    "med=np.median(kidney_df['sod'])\n",
    "for i in kidney_df['sod']:\n",
    "    if i>upper_trial or i<lower_trial:\n",
    "        kidney_df['sod']=kidney_df['sod'].replace(i,med)\n",
    "sms.boxplot(kidney_df['sod'])\n",
    "plt.title(\"box plot after median imputation\")\n",
    "plt.show()"
   ]
  },
  {
   "cell_type": "code",
   "execution_count": 34,
   "id": "5b10235a",
   "metadata": {},
   "outputs": [
    {
     "data": {
      "image/png": "[encoded data removed]",
      "text/plain": [
       "<Figure size 432x288 with 1 Axes>"
      ]
     },
     "metadata": {
      "needs_background": "light"
     },
     "output_type": "display_data"
    }
   ],
   "source": [
    "sms.boxplot(kidney_df['pot'])\n",
    "plt.title(\"box plot before median imputation\")\n",
    "plt.show()"
   ]
  },
  {
   "cell_type": "code",
   "execution_count": 35,
   "id": "0994387c",
   "metadata": {},
   "outputs": [
    {
     "data": {
      "image/png": "[encoded data removed]",
      "text/plain": [
       "<Figure size 432x288 with 1 Axes>"
      ]
     },
     "metadata": {
      "needs_background": "light"
     },
     "output_type": "display_data"
    }
   ],
   "source": [
    "q1 =kidney_df['pot'].quantile(0.25)\n",
    "q3 =kidney_df['pot'].quantile(0.75)\n",
    "iqr=q3-q1\n",
    "lower_trial=q1-1.5*iqr\n",
    "upper_trial=q3+1.5*iqr\n",
    "med=np.median(kidney_df['pot'])\n",
    "for i in kidney_df['pot']:\n",
    "    if i>upper_trial or i<lower_trial:\n",
    "        kidney_df['pot']=kidney_df['pot'].replace(i,med)\n",
    "sms.boxplot(kidney_df['pot'])\n",
    "plt.title(\"box plot after median imputation\")\n",
    "plt.show()"
   ]
  },
  {
   "cell_type": "code",
   "execution_count": 36,
   "id": "5cafd873",
   "metadata": {},
   "outputs": [
    {
     "data": {
      "image/png": "[encoded data removed]",
      "text/plain": [
       "<Figure size 432x288 with 1 Axes>"
      ]
     },
     "metadata": {
      "needs_background": "light"
     },
     "output_type": "display_data"
    }
   ],
   "source": [
    "sms.boxplot(kidney_df['hemo'])\n",
    "plt.title(\"box plot before median imputation\")\n",
    "plt.show()"
   ]
  },
  {
   "cell_type": "code",
   "execution_count": 37,
   "id": "a3c4b82f",
   "metadata": {},
   "outputs": [
    {
     "data": {
      "image/png": "[encoded data removed]",
      "text/plain": [
       "<Figure size 432x288 with 1 Axes>"
      ]
     },
     "metadata": {
      "needs_background": "light"
     },
     "output_type": "display_data"
    }
   ],
   "source": [
    "q1 =kidney_df['hemo'].quantile(0.25)\n",
    "q3 =kidney_df['hemo'].quantile(0.75)\n",
    "iqr=q3-q1\n",
    "lower_trial=q1-1.5*iqr\n",
    "upper_trial=q3+1.5*iqr\n",
    "med=np.median(kidney_df['hemo'])\n",
    "for i in kidney_df['hemo']:\n",
    "    if i>upper_trial or i<lower_trial:\n",
    "        kidney_df['hemo']=kidney_df['hemo'].replace(i,med)\n",
    "sms.boxplot(kidney_df['hemo'])\n",
    "plt.title(\"box plot after median imputation\")\n",
    "plt.show()"
   ]
  },
  {
   "cell_type": "code",
   "execution_count": 38,
   "id": "ffdeffba",
   "metadata": {},
   "outputs": [
    {
     "data": {
      "image/png": "[encoded data removed]",
      "text/plain": [
       "<Figure size 432x288 with 1 Axes>"
      ]
     },
     "metadata": {
      "needs_background": "light"
     },
     "output_type": "display_data"
    }
   ],
   "source": [
    "sms.boxplot(kidney_df['pcv'])\n",
    "plt.title(\"box plot before median imputation\")\n",
    "plt.show()"
   ]
  },
  {
   "cell_type": "code",
   "execution_count": 39,
   "id": "b781bb15",
   "metadata": {},
   "outputs": [
    {
     "data": {
      "image/png": "[encoded data removed]",
      "text/plain": [
       "<Figure size 432x288 with 1 Axes>"
      ]
     },
     "metadata": {
      "needs_background": "light"
     },
     "output_type": "display_data"
    }
   ],
   "source": [
    "q1 =kidney_df['pcv'].quantile(0.25)\n",
    "q3 =kidney_df['pcv'].quantile(0.75)\n",
    "iqr=q3-q1\n",
    "lower_trial=q1-1.5*iqr\n",
    "upper_trial=q3+1.5*iqr\n",
    "med=np.median(kidney_df['pcv'])\n",
    "for i in kidney_df['pcv']:\n",
    "    if i>upper_trial or i<lower_trial:\n",
    "        kidney_df['pcv']=kidney_df['pcv'].replace(i,med)\n",
    "sms.boxplot(kidney_df['pcv'])\n",
    "plt.title(\"box plot after median imputation\")\n",
    "plt.show()"
   ]
  },
  {
   "cell_type": "code",
   "execution_count": 40,
   "id": "78e5ac97",
   "metadata": {},
   "outputs": [
    {
     "data": {
      "image/png": "[encoded data removed]",
      "text/plain": [
       "<Figure size 432x288 with 1 Axes>"
      ]
     },
     "metadata": {
      "needs_background": "light"
     },
     "output_type": "display_data"
    }
   ],
   "source": [
    "sms.boxplot(kidney_df['wc'])\n",
    "plt.title(\"box plot before median imputation\")\n",
    "plt.show()"
   ]
  },
  {
   "cell_type": "code",
   "execution_count": 41,
   "id": "c6b1503e",
   "metadata": {},
   "outputs": [
    {
     "data": {
      "image/png": "[encoded data removed]",
      "text/plain": [
       "<Figure size 432x288 with 1 Axes>"
      ]
     },
     "metadata": {
      "needs_background": "light"
     },
     "output_type": "display_data"
    }
   ],
   "source": [
    "q1 =kidney_df['wc'].quantile(0.25)\n",
    "q3 =kidney_df['wc'].quantile(0.75)\n",
    "iqr=q3-q1\n",
    "lower_trial=q1-1.5*iqr\n",
    "upper_trial=q3+1.5*iqr\n",
    "med=np.median(kidney_df['wc'])\n",
    "for i in kidney_df['wc']:\n",
    "    if i>upper_trial or i<lower_trial:\n",
    "        kidney_df['wc']=kidney_df['wc'].replace(i,med)\n",
    "sms.boxplot(kidney_df['wc'])\n",
    "plt.title(\"box plot after median imputation\")\n",
    "plt.show()"
   ]
  },
  {
   "cell_type": "code",
   "execution_count": 42,
   "id": "139f7f14",
   "metadata": {},
   "outputs": [
    {
     "data": {
      "image/png": "[encoded data removed]",
      "text/plain": [
       "<Figure size 432x288 with 1 Axes>"
      ]
     },
     "metadata": {
      "needs_background": "light"
     },
     "output_type": "display_data"
    }
   ],
   "source": [
    "q1 =kidney_df['wc'].quantile(0.25)\n",
    "q3 =kidney_df['wc'].quantile(0.75)\n",
    "iqr=q3-q1\n",
    "lower_trial=q1-1.5*iqr\n",
    "upper_trial=q3+1.5*iqr\n",
    "med=np.median(kidney_df['wc'])\n",
    "for i in kidney_df['wc']:\n",
    "    if i>upper_trial or i<lower_trial:\n",
    "        kidney_df['wc']=kidney_df['wc'].replace(i,med)\n",
    "sms.boxplot(kidney_df['wc'])\n",
    "plt.title(\"box plot after median imputation\")\n",
    "plt.show()"
   ]
  },
  {
   "cell_type": "code",
   "execution_count": 43,
   "id": "2c430c69",
   "metadata": {},
   "outputs": [
    {
     "data": {
      "image/png": "[encoded data removed]",
      "text/plain": [
       "<Figure size 432x288 with 1 Axes>"
      ]
     },
     "metadata": {
      "needs_background": "light"
     },
     "output_type": "display_data"
    }
   ],
   "source": [
    "sms.boxplot(kidney_df['rc'])\n",
    "plt.title(\"box plot before median imputation\")\n",
    "plt.show()"
   ]
  },
  {
   "cell_type": "code",
   "execution_count": 44,
   "id": "c815cef4",
   "metadata": {},
   "outputs": [
    {
     "data": {
      "image/png": "[encoded data removed]",
      "text/plain": [
       "<Figure size 432x288 with 1 Axes>"
      ]
     },
     "metadata": {
      "needs_background": "light"
     },
     "output_type": "display_data"
    }
   ],
   "source": [
    "q1 =kidney_df['rc'].quantile(0.25)\n",
    "q3 =kidney_df['rc'].quantile(0.75)\n",
    "iqr=q3-q1\n",
    "lower_trial=q1-1.5*iqr\n",
    "upper_trial=q3+1.5*iqr\n",
    "med=np.median(kidney_df['rc'])\n",
    "for i in kidney_df['rc']:\n",
    "    if i>upper_trial or i<lower_trial:\n",
    "        kidney_df['rc']=kidney_df['rc'].replace(i,med)\n",
    "sms.boxplot(kidney_df['rc'])\n",
    "plt.title(\"box plot after median imputation\")\n",
    "plt.show()"
   ]
  },
  {
   "cell_type": "code",
   "execution_count": 46,
   "id": "280936c7",
   "metadata": {},
   "outputs": [
    {
     "data": {
      "text/html": [
       "<div>\n",
       "<style scoped>\n",
       "    .dataframe tbody tr th:only-of-type {\n",
       "        vertical-align: middle;\n",
       "    }\n",
       "\n",
       "    .dataframe tbody tr th {\n",
       "        vertical-align: top;\n",
       "    }\n",
       "\n",
       "    .dataframe thead th {\n",
       "        text-align: right;\n",
       "    }\n",
       "</style>\n",
       "<table border=\"1\" class=\"dataframe\">\n",
       "  <thead>\n",
       "    <tr style=\"text-align: right;\">\n",
       "      <th></th>\n",
       "      <th>age</th>\n",
       "      <th>bp</th>\n",
       "      <th>sg</th>\n",
       "      <th>al</th>\n",
       "      <th>su</th>\n",
       "      <th>bgr</th>\n",
       "      <th>bu</th>\n",
       "      <th>sc</th>\n",
       "      <th>sod</th>\n",
       "      <th>pot</th>\n",
       "      <th>hemo</th>\n",
       "      <th>pcv</th>\n",
       "      <th>wc</th>\n",
       "      <th>rc</th>\n",
       "    </tr>\n",
       "  </thead>\n",
       "  <tbody>\n",
       "    <tr>\n",
       "      <th>0</th>\n",
       "      <td>48.0</td>\n",
       "      <td>80.0</td>\n",
       "      <td>1.020</td>\n",
       "      <td>1.0</td>\n",
       "      <td>0.0</td>\n",
       "      <td>121.0</td>\n",
       "      <td>36.0</td>\n",
       "      <td>1.2</td>\n",
       "      <td>138.0</td>\n",
       "      <td>4.4</td>\n",
       "      <td>15.4</td>\n",
       "      <td>44.0</td>\n",
       "      <td>7800.0</td>\n",
       "      <td>5.2</td>\n",
       "    </tr>\n",
       "    <tr>\n",
       "      <th>1</th>\n",
       "      <td>7.0</td>\n",
       "      <td>50.0</td>\n",
       "      <td>1.020</td>\n",
       "      <td>4.0</td>\n",
       "      <td>0.0</td>\n",
       "      <td>121.0</td>\n",
       "      <td>18.0</td>\n",
       "      <td>0.8</td>\n",
       "      <td>138.0</td>\n",
       "      <td>4.4</td>\n",
       "      <td>11.3</td>\n",
       "      <td>38.0</td>\n",
       "      <td>6000.0</td>\n",
       "      <td>5.2</td>\n",
       "    </tr>\n",
       "    <tr>\n",
       "      <th>2</th>\n",
       "      <td>62.0</td>\n",
       "      <td>80.0</td>\n",
       "      <td>1.010</td>\n",
       "      <td>2.0</td>\n",
       "      <td>3.0</td>\n",
       "      <td>123.0</td>\n",
       "      <td>53.0</td>\n",
       "      <td>1.8</td>\n",
       "      <td>138.0</td>\n",
       "      <td>4.4</td>\n",
       "      <td>9.6</td>\n",
       "      <td>31.0</td>\n",
       "      <td>7500.0</td>\n",
       "      <td>5.2</td>\n",
       "    </tr>\n",
       "    <tr>\n",
       "      <th>3</th>\n",
       "      <td>48.0</td>\n",
       "      <td>70.0</td>\n",
       "      <td>1.005</td>\n",
       "      <td>4.0</td>\n",
       "      <td>0.0</td>\n",
       "      <td>117.0</td>\n",
       "      <td>56.0</td>\n",
       "      <td>1.3</td>\n",
       "      <td>138.0</td>\n",
       "      <td>2.5</td>\n",
       "      <td>11.2</td>\n",
       "      <td>32.0</td>\n",
       "      <td>6700.0</td>\n",
       "      <td>3.9</td>\n",
       "    </tr>\n",
       "    <tr>\n",
       "      <th>4</th>\n",
       "      <td>51.0</td>\n",
       "      <td>80.0</td>\n",
       "      <td>1.010</td>\n",
       "      <td>2.0</td>\n",
       "      <td>0.0</td>\n",
       "      <td>106.0</td>\n",
       "      <td>26.0</td>\n",
       "      <td>1.4</td>\n",
       "      <td>138.0</td>\n",
       "      <td>2.5</td>\n",
       "      <td>11.6</td>\n",
       "      <td>35.0</td>\n",
       "      <td>7300.0</td>\n",
       "      <td>4.6</td>\n",
       "    </tr>\n",
       "    <tr>\n",
       "      <th>...</th>\n",
       "      <td>...</td>\n",
       "      <td>...</td>\n",
       "      <td>...</td>\n",
       "      <td>...</td>\n",
       "      <td>...</td>\n",
       "      <td>...</td>\n",
       "      <td>...</td>\n",
       "      <td>...</td>\n",
       "      <td>...</td>\n",
       "      <td>...</td>\n",
       "      <td>...</td>\n",
       "      <td>...</td>\n",
       "      <td>...</td>\n",
       "      <td>...</td>\n",
       "    </tr>\n",
       "    <tr>\n",
       "      <th>395</th>\n",
       "      <td>55.0</td>\n",
       "      <td>80.0</td>\n",
       "      <td>1.020</td>\n",
       "      <td>0.0</td>\n",
       "      <td>0.0</td>\n",
       "      <td>140.0</td>\n",
       "      <td>49.0</td>\n",
       "      <td>0.5</td>\n",
       "      <td>150.0</td>\n",
       "      <td>4.9</td>\n",
       "      <td>15.7</td>\n",
       "      <td>47.0</td>\n",
       "      <td>6700.0</td>\n",
       "      <td>4.9</td>\n",
       "    </tr>\n",
       "    <tr>\n",
       "      <th>396</th>\n",
       "      <td>42.0</td>\n",
       "      <td>70.0</td>\n",
       "      <td>1.025</td>\n",
       "      <td>0.0</td>\n",
       "      <td>0.0</td>\n",
       "      <td>75.0</td>\n",
       "      <td>31.0</td>\n",
       "      <td>1.2</td>\n",
       "      <td>141.0</td>\n",
       "      <td>3.5</td>\n",
       "      <td>16.5</td>\n",
       "      <td>54.0</td>\n",
       "      <td>7800.0</td>\n",
       "      <td>6.2</td>\n",
       "    </tr>\n",
       "    <tr>\n",
       "      <th>397</th>\n",
       "      <td>12.0</td>\n",
       "      <td>80.0</td>\n",
       "      <td>1.020</td>\n",
       "      <td>0.0</td>\n",
       "      <td>0.0</td>\n",
       "      <td>100.0</td>\n",
       "      <td>26.0</td>\n",
       "      <td>0.6</td>\n",
       "      <td>137.0</td>\n",
       "      <td>4.4</td>\n",
       "      <td>15.8</td>\n",
       "      <td>49.0</td>\n",
       "      <td>6600.0</td>\n",
       "      <td>5.4</td>\n",
       "    </tr>\n",
       "    <tr>\n",
       "      <th>398</th>\n",
       "      <td>17.0</td>\n",
       "      <td>60.0</td>\n",
       "      <td>1.025</td>\n",
       "      <td>0.0</td>\n",
       "      <td>0.0</td>\n",
       "      <td>114.0</td>\n",
       "      <td>50.0</td>\n",
       "      <td>1.0</td>\n",
       "      <td>135.0</td>\n",
       "      <td>4.9</td>\n",
       "      <td>14.2</td>\n",
       "      <td>51.0</td>\n",
       "      <td>7200.0</td>\n",
       "      <td>5.9</td>\n",
       "    </tr>\n",
       "    <tr>\n",
       "      <th>399</th>\n",
       "      <td>58.0</td>\n",
       "      <td>80.0</td>\n",
       "      <td>1.025</td>\n",
       "      <td>0.0</td>\n",
       "      <td>0.0</td>\n",
       "      <td>131.0</td>\n",
       "      <td>18.0</td>\n",
       "      <td>1.1</td>\n",
       "      <td>141.0</td>\n",
       "      <td>3.5</td>\n",
       "      <td>15.8</td>\n",
       "      <td>53.0</td>\n",
       "      <td>6800.0</td>\n",
       "      <td>6.1</td>\n",
       "    </tr>\n",
       "  </tbody>\n",
       "</table>\n",
       "<p>391 rows × 14 columns</p>\n",
       "</div>"
      ],
      "text/plain": [
       "      age    bp     sg   al   su    bgr    bu   sc    sod  pot  hemo   pcv  \\\n",
       "0    48.0  80.0  1.020  1.0  0.0  121.0  36.0  1.2  138.0  4.4  15.4  44.0   \n",
       "1     7.0  50.0  1.020  4.0  0.0  121.0  18.0  0.8  138.0  4.4  11.3  38.0   \n",
       "2    62.0  80.0  1.010  2.0  3.0  123.0  53.0  1.8  138.0  4.4   9.6  31.0   \n",
       "3    48.0  70.0  1.005  4.0  0.0  117.0  56.0  1.3  138.0  2.5  11.2  32.0   \n",
       "4    51.0  80.0  1.010  2.0  0.0  106.0  26.0  1.4  138.0  2.5  11.6  35.0   \n",
       "..    ...   ...    ...  ...  ...    ...   ...  ...    ...  ...   ...   ...   \n",
       "395  55.0  80.0  1.020  0.0  0.0  140.0  49.0  0.5  150.0  4.9  15.7  47.0   \n",
       "396  42.0  70.0  1.025  0.0  0.0   75.0  31.0  1.2  141.0  3.5  16.5  54.0   \n",
       "397  12.0  80.0  1.020  0.0  0.0  100.0  26.0  0.6  137.0  4.4  15.8  49.0   \n",
       "398  17.0  60.0  1.025  0.0  0.0  114.0  50.0  1.0  135.0  4.9  14.2  51.0   \n",
       "399  58.0  80.0  1.025  0.0  0.0  131.0  18.0  1.1  141.0  3.5  15.8  53.0   \n",
       "\n",
       "         wc   rc  \n",
       "0    7800.0  5.2  \n",
       "1    6000.0  5.2  \n",
       "2    7500.0  5.2  \n",
       "3    6700.0  3.9  \n",
       "4    7300.0  4.6  \n",
       "..      ...  ...  \n",
       "395  6700.0  4.9  \n",
       "396  7800.0  6.2  \n",
       "397  6600.0  5.4  \n",
       "398  7200.0  5.9  \n",
       "399  6800.0  6.1  \n",
       "\n",
       "[391 rows x 14 columns]"
      ]
     },
     "execution_count": 46,
     "metadata": {},
     "output_type": "execute_result"
    }
   ],
   "source": [
    "#separating numeric data\n",
    "d_num=kidney_df.select_dtypes(['int64','float64'])\n",
    "d_num"
   ]
  },
  {
   "cell_type": "markdown",
   "id": "69606ce3",
   "metadata": {},
   "source": [
    "# skewness\n"
   ]
  },
  {
   "cell_type": "code",
   "execution_count": 47,
   "id": "6b916799",
   "metadata": {},
   "outputs": [
    {
     "data": {
      "text/plain": [
       "bp      1.534454\n",
       "sg     -0.098725\n",
       "al      0.939920\n",
       "su      2.419527\n",
       "bgr    -0.464705\n",
       "bu      0.100112\n",
       "sc     -0.279332\n",
       "sod     0.200860\n",
       "pot     0.129507\n",
       "hemo   -0.218803\n",
       "pcv    -0.256584\n",
       "wc      0.092811\n",
       "rc     -0.018398\n",
       "dtype: float64"
      ]
     },
     "execution_count": 47,
     "metadata": {},
     "output_type": "execute_result"
    }
   ],
   "source": [
    "#skewness\n",
    "num=kidney_df[['bp','sg','al','su','bgr','bu','sc','sod','pot','hemo','pcv','wc','rc']]\n",
    "num.skew(axis = 0,skipna = True)"
   ]
  },
  {
   "cell_type": "markdown",
   "id": "39b33a53",
   "metadata": {},
   "source": [
    "# observations:here we observe that skewness value of al is above 0.5"
   ]
  },
  {
   "cell_type": "code",
   "execution_count": 48,
   "id": "93ca63b2",
   "metadata": {},
   "outputs": [
    {
     "data": {
      "text/html": [
       "<div>\n",
       "<style scoped>\n",
       "    .dataframe tbody tr th:only-of-type {\n",
       "        vertical-align: middle;\n",
       "    }\n",
       "\n",
       "    .dataframe tbody tr th {\n",
       "        vertical-align: top;\n",
       "    }\n",
       "\n",
       "    .dataframe thead th {\n",
       "        text-align: right;\n",
       "    }\n",
       "</style>\n",
       "<table border=\"1\" class=\"dataframe\">\n",
       "  <thead>\n",
       "    <tr style=\"text-align: right;\">\n",
       "      <th></th>\n",
       "      <th>age</th>\n",
       "      <th>bp</th>\n",
       "      <th>sg</th>\n",
       "      <th>al</th>\n",
       "      <th>su</th>\n",
       "      <th>bgr</th>\n",
       "      <th>bu</th>\n",
       "      <th>sc</th>\n",
       "      <th>sod</th>\n",
       "      <th>pot</th>\n",
       "      <th>hemo</th>\n",
       "      <th>pcv</th>\n",
       "      <th>wc</th>\n",
       "      <th>rc</th>\n",
       "    </tr>\n",
       "  </thead>\n",
       "  <tbody>\n",
       "    <tr>\n",
       "      <th>0</th>\n",
       "      <td>48.0</td>\n",
       "      <td>80.0</td>\n",
       "      <td>1.020</td>\n",
       "      <td>1.0</td>\n",
       "      <td>0.0</td>\n",
       "      <td>121.0</td>\n",
       "      <td>36.0</td>\n",
       "      <td>1.2</td>\n",
       "      <td>138.0</td>\n",
       "      <td>4.4</td>\n",
       "      <td>15.4</td>\n",
       "      <td>44.0</td>\n",
       "      <td>7800.0</td>\n",
       "      <td>5.2</td>\n",
       "    </tr>\n",
       "    <tr>\n",
       "      <th>1</th>\n",
       "      <td>7.0</td>\n",
       "      <td>50.0</td>\n",
       "      <td>1.020</td>\n",
       "      <td>4.0</td>\n",
       "      <td>0.0</td>\n",
       "      <td>121.0</td>\n",
       "      <td>18.0</td>\n",
       "      <td>0.8</td>\n",
       "      <td>138.0</td>\n",
       "      <td>4.4</td>\n",
       "      <td>11.3</td>\n",
       "      <td>38.0</td>\n",
       "      <td>6000.0</td>\n",
       "      <td>5.2</td>\n",
       "    </tr>\n",
       "    <tr>\n",
       "      <th>2</th>\n",
       "      <td>62.0</td>\n",
       "      <td>80.0</td>\n",
       "      <td>1.010</td>\n",
       "      <td>2.0</td>\n",
       "      <td>3.0</td>\n",
       "      <td>123.0</td>\n",
       "      <td>53.0</td>\n",
       "      <td>1.8</td>\n",
       "      <td>138.0</td>\n",
       "      <td>4.4</td>\n",
       "      <td>9.6</td>\n",
       "      <td>31.0</td>\n",
       "      <td>7500.0</td>\n",
       "      <td>5.2</td>\n",
       "    </tr>\n",
       "    <tr>\n",
       "      <th>3</th>\n",
       "      <td>48.0</td>\n",
       "      <td>70.0</td>\n",
       "      <td>1.005</td>\n",
       "      <td>4.0</td>\n",
       "      <td>0.0</td>\n",
       "      <td>117.0</td>\n",
       "      <td>56.0</td>\n",
       "      <td>1.3</td>\n",
       "      <td>138.0</td>\n",
       "      <td>2.5</td>\n",
       "      <td>11.2</td>\n",
       "      <td>32.0</td>\n",
       "      <td>6700.0</td>\n",
       "      <td>3.9</td>\n",
       "    </tr>\n",
       "    <tr>\n",
       "      <th>4</th>\n",
       "      <td>51.0</td>\n",
       "      <td>80.0</td>\n",
       "      <td>1.010</td>\n",
       "      <td>2.0</td>\n",
       "      <td>0.0</td>\n",
       "      <td>106.0</td>\n",
       "      <td>26.0</td>\n",
       "      <td>1.4</td>\n",
       "      <td>138.0</td>\n",
       "      <td>2.5</td>\n",
       "      <td>11.6</td>\n",
       "      <td>35.0</td>\n",
       "      <td>7300.0</td>\n",
       "      <td>4.6</td>\n",
       "    </tr>\n",
       "    <tr>\n",
       "      <th>...</th>\n",
       "      <td>...</td>\n",
       "      <td>...</td>\n",
       "      <td>...</td>\n",
       "      <td>...</td>\n",
       "      <td>...</td>\n",
       "      <td>...</td>\n",
       "      <td>...</td>\n",
       "      <td>...</td>\n",
       "      <td>...</td>\n",
       "      <td>...</td>\n",
       "      <td>...</td>\n",
       "      <td>...</td>\n",
       "      <td>...</td>\n",
       "      <td>...</td>\n",
       "    </tr>\n",
       "    <tr>\n",
       "      <th>395</th>\n",
       "      <td>55.0</td>\n",
       "      <td>80.0</td>\n",
       "      <td>1.020</td>\n",
       "      <td>0.0</td>\n",
       "      <td>0.0</td>\n",
       "      <td>140.0</td>\n",
       "      <td>49.0</td>\n",
       "      <td>0.5</td>\n",
       "      <td>150.0</td>\n",
       "      <td>4.9</td>\n",
       "      <td>15.7</td>\n",
       "      <td>47.0</td>\n",
       "      <td>6700.0</td>\n",
       "      <td>4.9</td>\n",
       "    </tr>\n",
       "    <tr>\n",
       "      <th>396</th>\n",
       "      <td>42.0</td>\n",
       "      <td>70.0</td>\n",
       "      <td>1.025</td>\n",
       "      <td>0.0</td>\n",
       "      <td>0.0</td>\n",
       "      <td>75.0</td>\n",
       "      <td>31.0</td>\n",
       "      <td>1.2</td>\n",
       "      <td>141.0</td>\n",
       "      <td>3.5</td>\n",
       "      <td>16.5</td>\n",
       "      <td>54.0</td>\n",
       "      <td>7800.0</td>\n",
       "      <td>6.2</td>\n",
       "    </tr>\n",
       "    <tr>\n",
       "      <th>397</th>\n",
       "      <td>12.0</td>\n",
       "      <td>80.0</td>\n",
       "      <td>1.020</td>\n",
       "      <td>0.0</td>\n",
       "      <td>0.0</td>\n",
       "      <td>100.0</td>\n",
       "      <td>26.0</td>\n",
       "      <td>0.6</td>\n",
       "      <td>137.0</td>\n",
       "      <td>4.4</td>\n",
       "      <td>15.8</td>\n",
       "      <td>49.0</td>\n",
       "      <td>6600.0</td>\n",
       "      <td>5.4</td>\n",
       "    </tr>\n",
       "    <tr>\n",
       "      <th>398</th>\n",
       "      <td>17.0</td>\n",
       "      <td>60.0</td>\n",
       "      <td>1.025</td>\n",
       "      <td>0.0</td>\n",
       "      <td>0.0</td>\n",
       "      <td>114.0</td>\n",
       "      <td>50.0</td>\n",
       "      <td>1.0</td>\n",
       "      <td>135.0</td>\n",
       "      <td>4.9</td>\n",
       "      <td>14.2</td>\n",
       "      <td>51.0</td>\n",
       "      <td>7200.0</td>\n",
       "      <td>5.9</td>\n",
       "    </tr>\n",
       "    <tr>\n",
       "      <th>399</th>\n",
       "      <td>58.0</td>\n",
       "      <td>80.0</td>\n",
       "      <td>1.025</td>\n",
       "      <td>0.0</td>\n",
       "      <td>0.0</td>\n",
       "      <td>131.0</td>\n",
       "      <td>18.0</td>\n",
       "      <td>1.1</td>\n",
       "      <td>141.0</td>\n",
       "      <td>3.5</td>\n",
       "      <td>15.8</td>\n",
       "      <td>53.0</td>\n",
       "      <td>6800.0</td>\n",
       "      <td>6.1</td>\n",
       "    </tr>\n",
       "  </tbody>\n",
       "</table>\n",
       "<p>391 rows × 14 columns</p>\n",
       "</div>"
      ],
      "text/plain": [
       "      age    bp     sg   al   su    bgr    bu   sc    sod  pot  hemo   pcv  \\\n",
       "0    48.0  80.0  1.020  1.0  0.0  121.0  36.0  1.2  138.0  4.4  15.4  44.0   \n",
       "1     7.0  50.0  1.020  4.0  0.0  121.0  18.0  0.8  138.0  4.4  11.3  38.0   \n",
       "2    62.0  80.0  1.010  2.0  3.0  123.0  53.0  1.8  138.0  4.4   9.6  31.0   \n",
       "3    48.0  70.0  1.005  4.0  0.0  117.0  56.0  1.3  138.0  2.5  11.2  32.0   \n",
       "4    51.0  80.0  1.010  2.0  0.0  106.0  26.0  1.4  138.0  2.5  11.6  35.0   \n",
       "..    ...   ...    ...  ...  ...    ...   ...  ...    ...  ...   ...   ...   \n",
       "395  55.0  80.0  1.020  0.0  0.0  140.0  49.0  0.5  150.0  4.9  15.7  47.0   \n",
       "396  42.0  70.0  1.025  0.0  0.0   75.0  31.0  1.2  141.0  3.5  16.5  54.0   \n",
       "397  12.0  80.0  1.020  0.0  0.0  100.0  26.0  0.6  137.0  4.4  15.8  49.0   \n",
       "398  17.0  60.0  1.025  0.0  0.0  114.0  50.0  1.0  135.0  4.9  14.2  51.0   \n",
       "399  58.0  80.0  1.025  0.0  0.0  131.0  18.0  1.1  141.0  3.5  15.8  53.0   \n",
       "\n",
       "         wc   rc  \n",
       "0    7800.0  5.2  \n",
       "1    6000.0  5.2  \n",
       "2    7500.0  5.2  \n",
       "3    6700.0  3.9  \n",
       "4    7300.0  4.6  \n",
       "..      ...  ...  \n",
       "395  6700.0  4.9  \n",
       "396  7800.0  6.2  \n",
       "397  6600.0  5.4  \n",
       "398  7200.0  5.9  \n",
       "399  6800.0  6.1  \n",
       "\n",
       "[391 rows x 14 columns]"
      ]
     },
     "execution_count": 48,
     "metadata": {},
     "output_type": "execute_result"
    }
   ],
   "source": [
    "#separating numeric data\n",
    "d_num=kidney_df.select_dtypes(['int64','float64'])\n",
    "d_num"
   ]
  },
  {
   "cell_type": "code",
   "execution_count": 49,
   "id": "0291e47a",
   "metadata": {},
   "outputs": [
    {
     "name": "stdout",
     "output_type": "stream",
     "text": [
      "age\n",
      "-0.6656930770628687\n"
     ]
    },
    {
     "data": {
      "image/png": "[encoded data removed]",
      "text/plain": [
       "<Figure size 432x288 with 1 Axes>"
      ]
     },
     "metadata": {
      "needs_background": "light"
     },
     "output_type": "display_data"
    },
    {
     "name": "stdout",
     "output_type": "stream",
     "text": [
      "bp\n",
      "1.5285614686487703\n"
     ]
    },
    {
     "data": {
      "image/png": "[encoded data removed]",
      "text/plain": [
       "<Figure size 432x288 with 1 Axes>"
      ]
     },
     "metadata": {
      "needs_background": "light"
     },
     "output_type": "display_data"
    },
    {
     "name": "stdout",
     "output_type": "stream",
     "text": [
      "sg\n",
      "-0.09834596106325733\n"
     ]
    },
    {
     "data": {
      "image/png": "[encoded data removed]",
      "text/plain": [
       "<Figure size 432x288 with 1 Axes>"
      ]
     },
     "metadata": {
      "needs_background": "light"
     },
     "output_type": "display_data"
    },
    {
     "name": "stdout",
     "output_type": "stream",
     "text": [
      "al\n",
      "0.936310787759767\n"
     ]
    },
    {
     "data": {
      "image/png": "[encoded data removed]",
      "text/plain": [
       "<Figure size 432x288 with 1 Axes>"
      ]
     },
     "metadata": {
      "needs_background": "light"
     },
     "output_type": "display_data"
    },
    {
     "name": "stdout",
     "output_type": "stream",
     "text": [
      "su\n",
      "2.4102345506420866\n"
     ]
    },
    {
     "data": {
      "image/png": "[encoded data removed]",
      "text/plain": [
       "<Figure size 432x288 with 1 Axes>"
      ]
     },
     "metadata": {
      "needs_background": "light"
     },
     "output_type": "display_data"
    },
    {
     "name": "stdout",
     "output_type": "stream",
     "text": [
      "bgr\n",
      "-0.4629205807418815\n"
     ]
    },
    {
     "data": {
      "image/png": "[encoded data removed]",
      "text/plain": [
       "<Figure size 432x288 with 1 Axes>"
      ]
     },
     "metadata": {
      "needs_background": "light"
     },
     "output_type": "display_data"
    },
    {
     "name": "stdout",
     "output_type": "stream",
     "text": [
      "bu\n",
      "0.09972749736659511\n"
     ]
    },
    {
     "data": {
      "image/png": "[encoded data removed]",
      "text/plain": [
       "<Figure size 432x288 with 1 Axes>"
      ]
     },
     "metadata": {
      "needs_background": "light"
     },
     "output_type": "display_data"
    },
    {
     "name": "stdout",
     "output_type": "stream",
     "text": [
      "sc\n",
      "-0.2782589013749661\n"
     ]
    },
    {
     "data": {
      "image/png": "[encoded data removed]",
      "text/plain": [
       "<Figure size 432x288 with 1 Axes>"
      ]
     },
     "metadata": {
      "needs_background": "light"
     },
     "output_type": "display_data"
    },
    {
     "name": "stdout",
     "output_type": "stream",
     "text": [
      "sod\n",
      "0.20008812552116817\n"
     ]
    },
    {
     "data": {
      "image/png": "[encoded data removed]",
      "text/plain": [
       "<Figure size 432x288 with 1 Axes>"
      ]
     },
     "metadata": {
      "needs_background": "light"
     },
     "output_type": "display_data"
    },
    {
     "name": "stdout",
     "output_type": "stream",
     "text": [
      "pot\n",
      "0.12900981772729328\n"
     ]
    },
    {
     "data": {
      "image/png": "[encoded data removed]",
      "text/plain": [
       "<Figure size 432x288 with 1 Axes>"
      ]
     },
     "metadata": {
      "needs_background": "light"
     },
     "output_type": "display_data"
    },
    {
     "name": "stdout",
     "output_type": "stream",
     "text": [
      "hemo\n",
      "-0.21796301893900386\n"
     ]
    },
    {
     "data": {
      "image/png": "[encoded data removed]",
      "text/plain": [
       "<Figure size 432x288 with 1 Axes>"
      ]
     },
     "metadata": {
      "needs_background": "light"
     },
     "output_type": "display_data"
    },
    {
     "name": "stdout",
     "output_type": "stream",
     "text": [
      "pcv\n",
      "-0.2555983523353376\n"
     ]
    },
    {
     "data": {
      "image/png": "[encoded data removed]",
      "text/plain": [
       "<Figure size 432x288 with 1 Axes>"
      ]
     },
     "metadata": {
      "needs_background": "light"
     },
     "output_type": "display_data"
    },
    {
     "name": "stdout",
     "output_type": "stream",
     "text": [
      "wc\n",
      "0.09245449942771843\n"
     ]
    },
    {
     "data": {
      "image/png": "[encoded data removed]",
      "text/plain": [
       "<Figure size 432x288 with 1 Axes>"
      ]
     },
     "metadata": {
      "needs_background": "light"
     },
     "output_type": "display_data"
    },
    {
     "name": "stdout",
     "output_type": "stream",
     "text": [
      "rc\n",
      "-0.018327413509797233\n"
     ]
    },
    {
     "data": {
      "image/png": "[encoded data removed]",
      "text/plain": [
       "<Figure size 432x288 with 1 Axes>"
      ]
     },
     "metadata": {
      "needs_background": "light"
     },
     "output_type": "display_data"
    }
   ],
   "source": [
    "#Distplot graph all numerical data\n",
    "from scipy.stats import skew\n",
    "x =d_num\n",
    "for i in x:\n",
    "    print(i)\n",
    "    print(skew(x[i]))\n",
    "    plt.figure()\n",
    "    sms.distplot(x[i])\n",
    "    plt.show()"
   ]
  },
  {
   "cell_type": "markdown",
   "id": "b50d382f",
   "metadata": {},
   "source": [
    "# correlation value"
   ]
  },
  {
   "cell_type": "code",
   "execution_count": 50,
   "id": "606f87ec",
   "metadata": {},
   "outputs": [
    {
     "data": {
      "text/html": [
       "<div>\n",
       "<style scoped>\n",
       "    .dataframe tbody tr th:only-of-type {\n",
       "        vertical-align: middle;\n",
       "    }\n",
       "\n",
       "    .dataframe tbody tr th {\n",
       "        vertical-align: top;\n",
       "    }\n",
       "\n",
       "    .dataframe thead th {\n",
       "        text-align: right;\n",
       "    }\n",
       "</style>\n",
       "<table border=\"1\" class=\"dataframe\">\n",
       "  <thead>\n",
       "    <tr style=\"text-align: right;\">\n",
       "      <th></th>\n",
       "      <th>bp</th>\n",
       "      <th>sg</th>\n",
       "      <th>al</th>\n",
       "      <th>bgr</th>\n",
       "      <th>bu</th>\n",
       "      <th>sc</th>\n",
       "      <th>sod</th>\n",
       "      <th>pot</th>\n",
       "      <th>hemo</th>\n",
       "      <th>pcv</th>\n",
       "      <th>wc</th>\n",
       "      <th>rc</th>\n",
       "    </tr>\n",
       "  </thead>\n",
       "  <tbody>\n",
       "    <tr>\n",
       "      <th>bp</th>\n",
       "      <td>1.000000</td>\n",
       "      <td>-0.184164</td>\n",
       "      <td>0.160616</td>\n",
       "      <td>0.095590</td>\n",
       "      <td>0.053643</td>\n",
       "      <td>0.205160</td>\n",
       "      <td>-0.114225</td>\n",
       "      <td>0.080299</td>\n",
       "      <td>-0.282024</td>\n",
       "      <td>-0.290522</td>\n",
       "      <td>0.036094</td>\n",
       "      <td>-0.193087</td>\n",
       "    </tr>\n",
       "    <tr>\n",
       "      <th>sg</th>\n",
       "      <td>-0.184164</td>\n",
       "      <td>1.000000</td>\n",
       "      <td>-0.441099</td>\n",
       "      <td>-0.160312</td>\n",
       "      <td>-0.234296</td>\n",
       "      <td>-0.450933</td>\n",
       "      <td>0.357557</td>\n",
       "      <td>0.060630</td>\n",
       "      <td>0.563374</td>\n",
       "      <td>0.550448</td>\n",
       "      <td>-0.139932</td>\n",
       "      <td>0.519971</td>\n",
       "    </tr>\n",
       "    <tr>\n",
       "      <th>al</th>\n",
       "      <td>0.160616</td>\n",
       "      <td>-0.441099</td>\n",
       "      <td>1.000000</td>\n",
       "      <td>0.150107</td>\n",
       "      <td>0.292128</td>\n",
       "      <td>0.453508</td>\n",
       "      <td>-0.365508</td>\n",
       "      <td>0.067031</td>\n",
       "      <td>-0.534917</td>\n",
       "      <td>-0.508629</td>\n",
       "      <td>0.060670</td>\n",
       "      <td>-0.522041</td>\n",
       "    </tr>\n",
       "    <tr>\n",
       "      <th>bgr</th>\n",
       "      <td>0.095590</td>\n",
       "      <td>-0.160312</td>\n",
       "      <td>0.150107</td>\n",
       "      <td>1.000000</td>\n",
       "      <td>0.040166</td>\n",
       "      <td>0.207878</td>\n",
       "      <td>-0.162369</td>\n",
       "      <td>0.067816</td>\n",
       "      <td>-0.178362</td>\n",
       "      <td>-0.164326</td>\n",
       "      <td>0.006726</td>\n",
       "      <td>-0.202439</td>\n",
       "    </tr>\n",
       "    <tr>\n",
       "      <th>bu</th>\n",
       "      <td>0.053643</td>\n",
       "      <td>-0.234296</td>\n",
       "      <td>0.292128</td>\n",
       "      <td>0.040166</td>\n",
       "      <td>1.000000</td>\n",
       "      <td>0.360803</td>\n",
       "      <td>-0.146587</td>\n",
       "      <td>0.137734</td>\n",
       "      <td>-0.304197</td>\n",
       "      <td>-0.291404</td>\n",
       "      <td>0.114319</td>\n",
       "      <td>-0.301062</td>\n",
       "    </tr>\n",
       "    <tr>\n",
       "      <th>sc</th>\n",
       "      <td>0.205160</td>\n",
       "      <td>-0.450933</td>\n",
       "      <td>0.453508</td>\n",
       "      <td>0.207878</td>\n",
       "      <td>0.360803</td>\n",
       "      <td>1.000000</td>\n",
       "      <td>-0.343425</td>\n",
       "      <td>0.028927</td>\n",
       "      <td>-0.512347</td>\n",
       "      <td>-0.514700</td>\n",
       "      <td>0.110802</td>\n",
       "      <td>-0.464633</td>\n",
       "    </tr>\n",
       "    <tr>\n",
       "      <th>sod</th>\n",
       "      <td>-0.114225</td>\n",
       "      <td>0.357557</td>\n",
       "      <td>-0.365508</td>\n",
       "      <td>-0.162369</td>\n",
       "      <td>-0.146587</td>\n",
       "      <td>-0.343425</td>\n",
       "      <td>1.000000</td>\n",
       "      <td>0.000429</td>\n",
       "      <td>0.411072</td>\n",
       "      <td>0.396207</td>\n",
       "      <td>0.069924</td>\n",
       "      <td>0.335603</td>\n",
       "    </tr>\n",
       "    <tr>\n",
       "      <th>pot</th>\n",
       "      <td>0.080299</td>\n",
       "      <td>0.060630</td>\n",
       "      <td>0.067031</td>\n",
       "      <td>0.067816</td>\n",
       "      <td>0.137734</td>\n",
       "      <td>0.028927</td>\n",
       "      <td>0.000429</td>\n",
       "      <td>1.000000</td>\n",
       "      <td>-0.072835</td>\n",
       "      <td>-0.103577</td>\n",
       "      <td>-0.040453</td>\n",
       "      <td>-0.071300</td>\n",
       "    </tr>\n",
       "    <tr>\n",
       "      <th>hemo</th>\n",
       "      <td>-0.282024</td>\n",
       "      <td>0.563374</td>\n",
       "      <td>-0.534917</td>\n",
       "      <td>-0.178362</td>\n",
       "      <td>-0.304197</td>\n",
       "      <td>-0.512347</td>\n",
       "      <td>0.411072</td>\n",
       "      <td>-0.072835</td>\n",
       "      <td>1.000000</td>\n",
       "      <td>0.869042</td>\n",
       "      <td>-0.012214</td>\n",
       "      <td>0.719069</td>\n",
       "    </tr>\n",
       "    <tr>\n",
       "      <th>pcv</th>\n",
       "      <td>-0.290522</td>\n",
       "      <td>0.550448</td>\n",
       "      <td>-0.508629</td>\n",
       "      <td>-0.164326</td>\n",
       "      <td>-0.291404</td>\n",
       "      <td>-0.514700</td>\n",
       "      <td>0.396207</td>\n",
       "      <td>-0.103577</td>\n",
       "      <td>0.869042</td>\n",
       "      <td>1.000000</td>\n",
       "      <td>-0.002783</td>\n",
       "      <td>0.743292</td>\n",
       "    </tr>\n",
       "    <tr>\n",
       "      <th>wc</th>\n",
       "      <td>0.036094</td>\n",
       "      <td>-0.139932</td>\n",
       "      <td>0.060670</td>\n",
       "      <td>0.006726</td>\n",
       "      <td>0.114319</td>\n",
       "      <td>0.110802</td>\n",
       "      <td>0.069924</td>\n",
       "      <td>-0.040453</td>\n",
       "      <td>-0.012214</td>\n",
       "      <td>-0.002783</td>\n",
       "      <td>1.000000</td>\n",
       "      <td>0.029533</td>\n",
       "    </tr>\n",
       "    <tr>\n",
       "      <th>rc</th>\n",
       "      <td>-0.193087</td>\n",
       "      <td>0.519971</td>\n",
       "      <td>-0.522041</td>\n",
       "      <td>-0.202439</td>\n",
       "      <td>-0.301062</td>\n",
       "      <td>-0.464633</td>\n",
       "      <td>0.335603</td>\n",
       "      <td>-0.071300</td>\n",
       "      <td>0.719069</td>\n",
       "      <td>0.743292</td>\n",
       "      <td>0.029533</td>\n",
       "      <td>1.000000</td>\n",
       "    </tr>\n",
       "  </tbody>\n",
       "</table>\n",
       "</div>"
      ],
      "text/plain": [
       "            bp        sg        al       bgr        bu        sc       sod  \\\n",
       "bp    1.000000 -0.184164  0.160616  0.095590  0.053643  0.205160 -0.114225   \n",
       "sg   -0.184164  1.000000 -0.441099 -0.160312 -0.234296 -0.450933  0.357557   \n",
       "al    0.160616 -0.441099  1.000000  0.150107  0.292128  0.453508 -0.365508   \n",
       "bgr   0.095590 -0.160312  0.150107  1.000000  0.040166  0.207878 -0.162369   \n",
       "bu    0.053643 -0.234296  0.292128  0.040166  1.000000  0.360803 -0.146587   \n",
       "sc    0.205160 -0.450933  0.453508  0.207878  0.360803  1.000000 -0.343425   \n",
       "sod  -0.114225  0.357557 -0.365508 -0.162369 -0.146587 -0.343425  1.000000   \n",
       "pot   0.080299  0.060630  0.067031  0.067816  0.137734  0.028927  0.000429   \n",
       "hemo -0.282024  0.563374 -0.534917 -0.178362 -0.304197 -0.512347  0.411072   \n",
       "pcv  -0.290522  0.550448 -0.508629 -0.164326 -0.291404 -0.514700  0.396207   \n",
       "wc    0.036094 -0.139932  0.060670  0.006726  0.114319  0.110802  0.069924   \n",
       "rc   -0.193087  0.519971 -0.522041 -0.202439 -0.301062 -0.464633  0.335603   \n",
       "\n",
       "           pot      hemo       pcv        wc        rc  \n",
       "bp    0.080299 -0.282024 -0.290522  0.036094 -0.193087  \n",
       "sg    0.060630  0.563374  0.550448 -0.139932  0.519971  \n",
       "al    0.067031 -0.534917 -0.508629  0.060670 -0.522041  \n",
       "bgr   0.067816 -0.178362 -0.164326  0.006726 -0.202439  \n",
       "bu    0.137734 -0.304197 -0.291404  0.114319 -0.301062  \n",
       "sc    0.028927 -0.512347 -0.514700  0.110802 -0.464633  \n",
       "sod   0.000429  0.411072  0.396207  0.069924  0.335603  \n",
       "pot   1.000000 -0.072835 -0.103577 -0.040453 -0.071300  \n",
       "hemo -0.072835  1.000000  0.869042 -0.012214  0.719069  \n",
       "pcv  -0.103577  0.869042  1.000000 -0.002783  0.743292  \n",
       "wc   -0.040453 -0.012214 -0.002783  1.000000  0.029533  \n",
       "rc   -0.071300  0.719069  0.743292  0.029533  1.000000  "
      ]
     },
     "execution_count": 50,
     "metadata": {},
     "output_type": "execute_result"
    }
   ],
   "source": [
    "d1=kidney_df[['bp','sg','al','bgr','bu','sc','sod','pot','hemo','pcv','wc','rc']]\n",
    "d1.corr()"
   ]
  },
  {
   "cell_type": "code",
   "execution_count": 51,
   "id": "3f97ccad",
   "metadata": {},
   "outputs": [
    {
     "data": {
      "image/png": "[encoded data removed]",
      "text/plain": [
       "<Figure size 1152x360 with 2 Axes>"
      ]
     },
     "metadata": {
      "needs_background": "light"
     },
     "output_type": "display_data"
    }
   ],
   "source": [
    "plt.figure(figsize = (16,5))\n",
    "sms.heatmap(d_num.corr() , annot = True)\n",
    "plt.show()"
   ]
  },
  {
   "cell_type": "markdown",
   "id": "9e150525",
   "metadata": {},
   "source": [
    "# standardization"
   ]
  },
  {
   "cell_type": "code",
   "execution_count": 55,
   "id": "9facf353",
   "metadata": {},
   "outputs": [
    {
     "data": {
      "text/html": [
       "<div>\n",
       "<style scoped>\n",
       "    .dataframe tbody tr th:only-of-type {\n",
       "        vertical-align: middle;\n",
       "    }\n",
       "\n",
       "    .dataframe tbody tr th {\n",
       "        vertical-align: top;\n",
       "    }\n",
       "\n",
       "    .dataframe thead th {\n",
       "        text-align: right;\n",
       "    }\n",
       "</style>\n",
       "<table border=\"1\" class=\"dataframe\">\n",
       "  <thead>\n",
       "    <tr style=\"text-align: right;\">\n",
       "      <th></th>\n",
       "      <th>bp</th>\n",
       "      <th>sg</th>\n",
       "      <th>al</th>\n",
       "      <th>bgr</th>\n",
       "      <th>bu</th>\n",
       "      <th>sc</th>\n",
       "      <th>sod</th>\n",
       "      <th>pot</th>\n",
       "      <th>hemo</th>\n",
       "      <th>pcv</th>\n",
       "      <th>wc</th>\n",
       "      <th>rc</th>\n",
       "    </tr>\n",
       "  </thead>\n",
       "  <tbody>\n",
       "    <tr>\n",
       "      <th>0</th>\n",
       "      <td>0.275862</td>\n",
       "      <td>0.483714</td>\n",
       "      <td>-0.034382</td>\n",
       "      <td>0.393820</td>\n",
       "      <td>-0.105693</td>\n",
       "      <td>0.192821</td>\n",
       "      <td>-0.066282</td>\n",
       "      <td>0.061650</td>\n",
       "      <td>1.047081</td>\n",
       "      <td>0.671850</td>\n",
       "      <td>-0.080688</td>\n",
       "      <td>0.728417</td>\n",
       "    </tr>\n",
       "    <tr>\n",
       "      <th>1</th>\n",
       "      <td>-1.895854</td>\n",
       "      <td>0.483714</td>\n",
       "      <td>2.206204</td>\n",
       "      <td>0.393820</td>\n",
       "      <td>-1.486812</td>\n",
       "      <td>-1.053344</td>\n",
       "      <td>-0.066282</td>\n",
       "      <td>0.061650</td>\n",
       "      <td>-0.381251</td>\n",
       "      <td>0.000286</td>\n",
       "      <td>-0.895435</td>\n",
       "      <td>0.728417</td>\n",
       "    </tr>\n",
       "    <tr>\n",
       "      <th>2</th>\n",
       "      <td>0.275862</td>\n",
       "      <td>-1.267511</td>\n",
       "      <td>0.712480</td>\n",
       "      <td>0.504441</td>\n",
       "      <td>1.198697</td>\n",
       "      <td>2.062068</td>\n",
       "      <td>-0.066282</td>\n",
       "      <td>0.061650</td>\n",
       "      <td>-0.973486</td>\n",
       "      <td>-0.783204</td>\n",
       "      <td>-0.216479</td>\n",
       "      <td>0.728417</td>\n",
       "    </tr>\n",
       "    <tr>\n",
       "      <th>3</th>\n",
       "      <td>-0.448044</td>\n",
       "      <td>-2.143124</td>\n",
       "      <td>2.206204</td>\n",
       "      <td>0.172579</td>\n",
       "      <td>1.428883</td>\n",
       "      <td>0.504362</td>\n",
       "      <td>-0.066282</td>\n",
       "      <td>-2.714076</td>\n",
       "      <td>-0.416088</td>\n",
       "      <td>-0.671277</td>\n",
       "      <td>-0.578589</td>\n",
       "      <td>-0.574378</td>\n",
       "    </tr>\n",
       "    <tr>\n",
       "      <th>4</th>\n",
       "      <td>0.275862</td>\n",
       "      <td>-1.267511</td>\n",
       "      <td>0.712480</td>\n",
       "      <td>-0.435833</td>\n",
       "      <td>-0.872982</td>\n",
       "      <td>0.815903</td>\n",
       "      <td>-0.066282</td>\n",
       "      <td>-2.714076</td>\n",
       "      <td>-0.276739</td>\n",
       "      <td>-0.335495</td>\n",
       "      <td>-0.307006</td>\n",
       "      <td>0.127127</td>\n",
       "    </tr>\n",
       "    <tr>\n",
       "      <th>...</th>\n",
       "      <td>...</td>\n",
       "      <td>...</td>\n",
       "      <td>...</td>\n",
       "      <td>...</td>\n",
       "      <td>...</td>\n",
       "      <td>...</td>\n",
       "      <td>...</td>\n",
       "      <td>...</td>\n",
       "      <td>...</td>\n",
       "      <td>...</td>\n",
       "      <td>...</td>\n",
       "      <td>...</td>\n",
       "    </tr>\n",
       "    <tr>\n",
       "      <th>395</th>\n",
       "      <td>0.275862</td>\n",
       "      <td>0.483714</td>\n",
       "      <td>-0.781245</td>\n",
       "      <td>1.444715</td>\n",
       "      <td>0.891781</td>\n",
       "      <td>-1.987967</td>\n",
       "      <td>2.237395</td>\n",
       "      <td>0.792104</td>\n",
       "      <td>1.151593</td>\n",
       "      <td>1.007631</td>\n",
       "      <td>-0.578589</td>\n",
       "      <td>0.427772</td>\n",
       "    </tr>\n",
       "    <tr>\n",
       "      <th>396</th>\n",
       "      <td>-0.448044</td>\n",
       "      <td>1.359327</td>\n",
       "      <td>-0.781245</td>\n",
       "      <td>-2.150451</td>\n",
       "      <td>-0.489338</td>\n",
       "      <td>0.192821</td>\n",
       "      <td>0.509637</td>\n",
       "      <td>-1.253168</td>\n",
       "      <td>1.430292</td>\n",
       "      <td>1.791122</td>\n",
       "      <td>-0.080688</td>\n",
       "      <td>1.730568</td>\n",
       "    </tr>\n",
       "    <tr>\n",
       "      <th>397</th>\n",
       "      <td>0.275862</td>\n",
       "      <td>0.483714</td>\n",
       "      <td>-0.781245</td>\n",
       "      <td>-0.767695</td>\n",
       "      <td>-0.872982</td>\n",
       "      <td>-1.676426</td>\n",
       "      <td>-0.258255</td>\n",
       "      <td>0.061650</td>\n",
       "      <td>1.186431</td>\n",
       "      <td>1.231486</td>\n",
       "      <td>-0.623853</td>\n",
       "      <td>0.928847</td>\n",
       "    </tr>\n",
       "    <tr>\n",
       "      <th>398</th>\n",
       "      <td>-1.171949</td>\n",
       "      <td>1.359327</td>\n",
       "      <td>-0.781245</td>\n",
       "      <td>0.006649</td>\n",
       "      <td>0.968510</td>\n",
       "      <td>-0.430261</td>\n",
       "      <td>-0.642202</td>\n",
       "      <td>0.792104</td>\n",
       "      <td>0.629033</td>\n",
       "      <td>1.455340</td>\n",
       "      <td>-0.352270</td>\n",
       "      <td>1.429923</td>\n",
       "    </tr>\n",
       "    <tr>\n",
       "      <th>399</th>\n",
       "      <td>0.275862</td>\n",
       "      <td>1.359327</td>\n",
       "      <td>-0.781245</td>\n",
       "      <td>0.946923</td>\n",
       "      <td>-1.486812</td>\n",
       "      <td>-0.118720</td>\n",
       "      <td>0.509637</td>\n",
       "      <td>-1.253168</td>\n",
       "      <td>1.186431</td>\n",
       "      <td>1.679195</td>\n",
       "      <td>-0.533325</td>\n",
       "      <td>1.630353</td>\n",
       "    </tr>\n",
       "  </tbody>\n",
       "</table>\n",
       "<p>391 rows × 12 columns</p>\n",
       "</div>"
      ],
      "text/plain": [
       "           bp        sg        al       bgr        bu        sc       sod  \\\n",
       "0    0.275862  0.483714 -0.034382  0.393820 -0.105693  0.192821 -0.066282   \n",
       "1   -1.895854  0.483714  2.206204  0.393820 -1.486812 -1.053344 -0.066282   \n",
       "2    0.275862 -1.267511  0.712480  0.504441  1.198697  2.062068 -0.066282   \n",
       "3   -0.448044 -2.143124  2.206204  0.172579  1.428883  0.504362 -0.066282   \n",
       "4    0.275862 -1.267511  0.712480 -0.435833 -0.872982  0.815903 -0.066282   \n",
       "..        ...       ...       ...       ...       ...       ...       ...   \n",
       "395  0.275862  0.483714 -0.781245  1.444715  0.891781 -1.987967  2.237395   \n",
       "396 -0.448044  1.359327 -0.781245 -2.150451 -0.489338  0.192821  0.509637   \n",
       "397  0.275862  0.483714 -0.781245 -0.767695 -0.872982 -1.676426 -0.258255   \n",
       "398 -1.171949  1.359327 -0.781245  0.006649  0.968510 -0.430261 -0.642202   \n",
       "399  0.275862  1.359327 -0.781245  0.946923 -1.486812 -0.118720  0.509637   \n",
       "\n",
       "          pot      hemo       pcv        wc        rc  \n",
       "0    0.061650  1.047081  0.671850 -0.080688  0.728417  \n",
       "1    0.061650 -0.381251  0.000286 -0.895435  0.728417  \n",
       "2    0.061650 -0.973486 -0.783204 -0.216479  0.728417  \n",
       "3   -2.714076 -0.416088 -0.671277 -0.578589 -0.574378  \n",
       "4   -2.714076 -0.276739 -0.335495 -0.307006  0.127127  \n",
       "..        ...       ...       ...       ...       ...  \n",
       "395  0.792104  1.151593  1.007631 -0.578589  0.427772  \n",
       "396 -1.253168  1.430292  1.791122 -0.080688  1.730568  \n",
       "397  0.061650  1.186431  1.231486 -0.623853  0.928847  \n",
       "398  0.792104  0.629033  1.455340 -0.352270  1.429923  \n",
       "399 -1.253168  1.186431  1.679195 -0.533325  1.630353  \n",
       "\n",
       "[391 rows x 12 columns]"
      ]
     },
     "execution_count": 55,
     "metadata": {},
     "output_type": "execute_result"
    }
   ],
   "source": [
    "\n",
    "x = d1\n",
    "d1= (x-x.mean())/x.std()\n",
    "d1"
   ]
  },
  {
   "cell_type": "markdown",
   "id": "748382cc",
   "metadata": {},
   "source": [
    "# Normalization"
   ]
  },
  {
   "cell_type": "code",
   "execution_count": 52,
   "id": "df070e15",
   "metadata": {},
   "outputs": [
    {
     "data": {
      "text/html": [
       "<div>\n",
       "<style scoped>\n",
       "    .dataframe tbody tr th:only-of-type {\n",
       "        vertical-align: middle;\n",
       "    }\n",
       "\n",
       "    .dataframe tbody tr th {\n",
       "        vertical-align: top;\n",
       "    }\n",
       "\n",
       "    .dataframe thead th {\n",
       "        text-align: right;\n",
       "    }\n",
       "</style>\n",
       "<table border=\"1\" class=\"dataframe\">\n",
       "  <thead>\n",
       "    <tr style=\"text-align: right;\">\n",
       "      <th></th>\n",
       "      <th>bp</th>\n",
       "      <th>sg</th>\n",
       "      <th>al</th>\n",
       "      <th>bgr</th>\n",
       "      <th>bu</th>\n",
       "      <th>sc</th>\n",
       "      <th>sod</th>\n",
       "      <th>pot</th>\n",
       "      <th>hemo</th>\n",
       "      <th>pcv</th>\n",
       "      <th>wc</th>\n",
       "      <th>rc</th>\n",
       "    </tr>\n",
       "  </thead>\n",
       "  <tbody>\n",
       "    <tr>\n",
       "      <th>0</th>\n",
       "      <td>0.230769</td>\n",
       "      <td>0.75</td>\n",
       "      <td>0.2</td>\n",
       "      <td>0.586207</td>\n",
       "      <td>0.489362</td>\n",
       "      <td>0.533333</td>\n",
       "      <td>0.500000</td>\n",
       "      <td>0.487179</td>\n",
       "      <td>0.804878</td>\n",
       "      <td>0.743590</td>\n",
       "      <td>0.491228</td>\n",
       "      <td>0.704545</td>\n",
       "    </tr>\n",
       "    <tr>\n",
       "      <th>1</th>\n",
       "      <td>0.000000</td>\n",
       "      <td>0.75</td>\n",
       "      <td>0.8</td>\n",
       "      <td>0.586207</td>\n",
       "      <td>0.234043</td>\n",
       "      <td>0.266667</td>\n",
       "      <td>0.500000</td>\n",
       "      <td>0.487179</td>\n",
       "      <td>0.471545</td>\n",
       "      <td>0.589744</td>\n",
       "      <td>0.333333</td>\n",
       "      <td>0.704545</td>\n",
       "    </tr>\n",
       "    <tr>\n",
       "      <th>2</th>\n",
       "      <td>0.230769</td>\n",
       "      <td>0.25</td>\n",
       "      <td>0.4</td>\n",
       "      <td>0.609195</td>\n",
       "      <td>0.730496</td>\n",
       "      <td>0.933333</td>\n",
       "      <td>0.500000</td>\n",
       "      <td>0.487179</td>\n",
       "      <td>0.333333</td>\n",
       "      <td>0.410256</td>\n",
       "      <td>0.464912</td>\n",
       "      <td>0.704545</td>\n",
       "    </tr>\n",
       "    <tr>\n",
       "      <th>3</th>\n",
       "      <td>0.153846</td>\n",
       "      <td>0.00</td>\n",
       "      <td>0.8</td>\n",
       "      <td>0.540230</td>\n",
       "      <td>0.773050</td>\n",
       "      <td>0.600000</td>\n",
       "      <td>0.500000</td>\n",
       "      <td>0.000000</td>\n",
       "      <td>0.463415</td>\n",
       "      <td>0.435897</td>\n",
       "      <td>0.394737</td>\n",
       "      <td>0.409091</td>\n",
       "    </tr>\n",
       "    <tr>\n",
       "      <th>4</th>\n",
       "      <td>0.230769</td>\n",
       "      <td>0.25</td>\n",
       "      <td>0.4</td>\n",
       "      <td>0.413793</td>\n",
       "      <td>0.347518</td>\n",
       "      <td>0.666667</td>\n",
       "      <td>0.500000</td>\n",
       "      <td>0.000000</td>\n",
       "      <td>0.495935</td>\n",
       "      <td>0.512821</td>\n",
       "      <td>0.447368</td>\n",
       "      <td>0.568182</td>\n",
       "    </tr>\n",
       "    <tr>\n",
       "      <th>...</th>\n",
       "      <td>...</td>\n",
       "      <td>...</td>\n",
       "      <td>...</td>\n",
       "      <td>...</td>\n",
       "      <td>...</td>\n",
       "      <td>...</td>\n",
       "      <td>...</td>\n",
       "      <td>...</td>\n",
       "      <td>...</td>\n",
       "      <td>...</td>\n",
       "      <td>...</td>\n",
       "      <td>...</td>\n",
       "    </tr>\n",
       "    <tr>\n",
       "      <th>395</th>\n",
       "      <td>0.230769</td>\n",
       "      <td>0.75</td>\n",
       "      <td>0.0</td>\n",
       "      <td>0.804598</td>\n",
       "      <td>0.673759</td>\n",
       "      <td>0.066667</td>\n",
       "      <td>1.000000</td>\n",
       "      <td>0.615385</td>\n",
       "      <td>0.829268</td>\n",
       "      <td>0.820513</td>\n",
       "      <td>0.394737</td>\n",
       "      <td>0.636364</td>\n",
       "    </tr>\n",
       "    <tr>\n",
       "      <th>396</th>\n",
       "      <td>0.153846</td>\n",
       "      <td>1.00</td>\n",
       "      <td>0.0</td>\n",
       "      <td>0.057471</td>\n",
       "      <td>0.418440</td>\n",
       "      <td>0.533333</td>\n",
       "      <td>0.625000</td>\n",
       "      <td>0.256410</td>\n",
       "      <td>0.894309</td>\n",
       "      <td>1.000000</td>\n",
       "      <td>0.491228</td>\n",
       "      <td>0.931818</td>\n",
       "    </tr>\n",
       "    <tr>\n",
       "      <th>397</th>\n",
       "      <td>0.230769</td>\n",
       "      <td>0.75</td>\n",
       "      <td>0.0</td>\n",
       "      <td>0.344828</td>\n",
       "      <td>0.347518</td>\n",
       "      <td>0.133333</td>\n",
       "      <td>0.458333</td>\n",
       "      <td>0.487179</td>\n",
       "      <td>0.837398</td>\n",
       "      <td>0.871795</td>\n",
       "      <td>0.385965</td>\n",
       "      <td>0.750000</td>\n",
       "    </tr>\n",
       "    <tr>\n",
       "      <th>398</th>\n",
       "      <td>0.076923</td>\n",
       "      <td>1.00</td>\n",
       "      <td>0.0</td>\n",
       "      <td>0.505747</td>\n",
       "      <td>0.687943</td>\n",
       "      <td>0.400000</td>\n",
       "      <td>0.375000</td>\n",
       "      <td>0.615385</td>\n",
       "      <td>0.707317</td>\n",
       "      <td>0.923077</td>\n",
       "      <td>0.438596</td>\n",
       "      <td>0.863636</td>\n",
       "    </tr>\n",
       "    <tr>\n",
       "      <th>399</th>\n",
       "      <td>0.230769</td>\n",
       "      <td>1.00</td>\n",
       "      <td>0.0</td>\n",
       "      <td>0.701149</td>\n",
       "      <td>0.234043</td>\n",
       "      <td>0.466667</td>\n",
       "      <td>0.625000</td>\n",
       "      <td>0.256410</td>\n",
       "      <td>0.837398</td>\n",
       "      <td>0.974359</td>\n",
       "      <td>0.403509</td>\n",
       "      <td>0.909091</td>\n",
       "    </tr>\n",
       "  </tbody>\n",
       "</table>\n",
       "<p>391 rows × 12 columns</p>\n",
       "</div>"
      ],
      "text/plain": [
       "           bp    sg   al       bgr        bu        sc       sod       pot  \\\n",
       "0    0.230769  0.75  0.2  0.586207  0.489362  0.533333  0.500000  0.487179   \n",
       "1    0.000000  0.75  0.8  0.586207  0.234043  0.266667  0.500000  0.487179   \n",
       "2    0.230769  0.25  0.4  0.609195  0.730496  0.933333  0.500000  0.487179   \n",
       "3    0.153846  0.00  0.8  0.540230  0.773050  0.600000  0.500000  0.000000   \n",
       "4    0.230769  0.25  0.4  0.413793  0.347518  0.666667  0.500000  0.000000   \n",
       "..        ...   ...  ...       ...       ...       ...       ...       ...   \n",
       "395  0.230769  0.75  0.0  0.804598  0.673759  0.066667  1.000000  0.615385   \n",
       "396  0.153846  1.00  0.0  0.057471  0.418440  0.533333  0.625000  0.256410   \n",
       "397  0.230769  0.75  0.0  0.344828  0.347518  0.133333  0.458333  0.487179   \n",
       "398  0.076923  1.00  0.0  0.505747  0.687943  0.400000  0.375000  0.615385   \n",
       "399  0.230769  1.00  0.0  0.701149  0.234043  0.466667  0.625000  0.256410   \n",
       "\n",
       "         hemo       pcv        wc        rc  \n",
       "0    0.804878  0.743590  0.491228  0.704545  \n",
       "1    0.471545  0.589744  0.333333  0.704545  \n",
       "2    0.333333  0.410256  0.464912  0.704545  \n",
       "3    0.463415  0.435897  0.394737  0.409091  \n",
       "4    0.495935  0.512821  0.447368  0.568182  \n",
       "..        ...       ...       ...       ...  \n",
       "395  0.829268  0.820513  0.394737  0.636364  \n",
       "396  0.894309  1.000000  0.491228  0.931818  \n",
       "397  0.837398  0.871795  0.385965  0.750000  \n",
       "398  0.707317  0.923077  0.438596  0.863636  \n",
       "399  0.837398  0.974359  0.403509  0.909091  \n",
       "\n",
       "[391 rows x 12 columns]"
      ]
     },
     "execution_count": 52,
     "metadata": {},
     "output_type": "execute_result"
    }
   ],
   "source": [
    "\n",
    "d1 = (d1 - d1.min())/ (d1.max() - d1.min())\n",
    "d1"
   ]
  },
  {
   "cell_type": "markdown",
   "id": "5db8f92c",
   "metadata": {},
   "source": [
    "# Multicollinearity treatment"
   ]
  },
  {
   "cell_type": "code",
   "execution_count": 56,
   "id": "c717d7b7",
   "metadata": {},
   "outputs": [
    {
     "data": {
      "text/html": [
       "<div>\n",
       "<style scoped>\n",
       "    .dataframe tbody tr th:only-of-type {\n",
       "        vertical-align: middle;\n",
       "    }\n",
       "\n",
       "    .dataframe tbody tr th {\n",
       "        vertical-align: top;\n",
       "    }\n",
       "\n",
       "    .dataframe thead th {\n",
       "        text-align: right;\n",
       "    }\n",
       "</style>\n",
       "<table border=\"1\" class=\"dataframe\">\n",
       "  <thead>\n",
       "    <tr style=\"text-align: right;\">\n",
       "      <th></th>\n",
       "      <th>variables</th>\n",
       "      <th>VIF</th>\n",
       "    </tr>\n",
       "  </thead>\n",
       "  <tbody>\n",
       "    <tr>\n",
       "      <th>0</th>\n",
       "      <td>bp</td>\n",
       "      <td>1.115193</td>\n",
       "    </tr>\n",
       "    <tr>\n",
       "      <th>1</th>\n",
       "      <td>sg</td>\n",
       "      <td>1.721009</td>\n",
       "    </tr>\n",
       "    <tr>\n",
       "      <th>2</th>\n",
       "      <td>al</td>\n",
       "      <td>1.629981</td>\n",
       "    </tr>\n",
       "    <tr>\n",
       "      <th>3</th>\n",
       "      <td>bgr</td>\n",
       "      <td>1.080383</td>\n",
       "    </tr>\n",
       "    <tr>\n",
       "      <th>4</th>\n",
       "      <td>bu</td>\n",
       "      <td>1.236423</td>\n",
       "    </tr>\n",
       "    <tr>\n",
       "      <th>5</th>\n",
       "      <td>sc</td>\n",
       "      <td>1.655560</td>\n",
       "    </tr>\n",
       "    <tr>\n",
       "      <th>6</th>\n",
       "      <td>sod</td>\n",
       "      <td>1.319656</td>\n",
       "    </tr>\n",
       "    <tr>\n",
       "      <th>7</th>\n",
       "      <td>pot</td>\n",
       "      <td>1.063269</td>\n",
       "    </tr>\n",
       "    <tr>\n",
       "      <th>8</th>\n",
       "      <td>hemo</td>\n",
       "      <td>4.599570</td>\n",
       "    </tr>\n",
       "    <tr>\n",
       "      <th>9</th>\n",
       "      <td>pcv</td>\n",
       "      <td>4.823978</td>\n",
       "    </tr>\n",
       "    <tr>\n",
       "      <th>10</th>\n",
       "      <td>wc</td>\n",
       "      <td>1.076280</td>\n",
       "    </tr>\n",
       "    <tr>\n",
       "      <th>11</th>\n",
       "      <td>rc</td>\n",
       "      <td>2.574819</td>\n",
       "    </tr>\n",
       "  </tbody>\n",
       "</table>\n",
       "</div>"
      ],
      "text/plain": [
       "   variables       VIF\n",
       "0         bp  1.115193\n",
       "1         sg  1.721009\n",
       "2         al  1.629981\n",
       "3        bgr  1.080383\n",
       "4         bu  1.236423\n",
       "5         sc  1.655560\n",
       "6        sod  1.319656\n",
       "7        pot  1.063269\n",
       "8       hemo  4.599570\n",
       "9        pcv  4.823978\n",
       "10        wc  1.076280\n",
       "11        rc  2.574819"
      ]
     },
     "execution_count": 56,
     "metadata": {},
     "output_type": "execute_result"
    }
   ],
   "source": [
    "from statsmodels.stats.outliers_influence import variance_inflation_factor\n",
    "\n",
    "def calc_vif(X):\n",
    "\n",
    "    # Calculating VIF\n",
    "    vif = pd.DataFrame()\n",
    "    vif[\"variables\"] = X.columns\n",
    "    vif[\"VIF\"] = [variance_inflation_factor(X.values, i) for i in range(X.shape[1])]\n",
    "\n",
    "    return(vif)\n",
    "X = d1\n",
    "calc_vif(X)"
   ]
  },
  {
   "cell_type": "markdown",
   "id": "4f43c598",
   "metadata": {},
   "source": [
    "# observation:features where vif value exceed above 5 then it is consider to be multicollinearity."
   ]
  },
  {
   "cell_type": "markdown",
   "id": "66866c07",
   "metadata": {},
   "source": [
    "# class imbalance"
   ]
  },
  {
   "cell_type": "code",
   "execution_count": 58,
   "id": "c8fb50fd",
   "metadata": {},
   "outputs": [
    {
     "data": {
      "text/plain": [
       "ckd       242\n",
       "notckd    149\n",
       "Name: classification, dtype: int64"
      ]
     },
     "execution_count": 58,
     "metadata": {},
     "output_type": "execute_result"
    }
   ],
   "source": [
    "kidney_df['classification'].value_counts()"
   ]
  },
  {
   "cell_type": "code",
   "execution_count": 59,
   "id": "dcded957",
   "metadata": {},
   "outputs": [
    {
     "data": {
      "text/plain": [
       "age               float64\n",
       "bp                float64\n",
       "sg                float64\n",
       "al                float64\n",
       "su                float64\n",
       "rbc                object\n",
       "pc                 object\n",
       "pcc                object\n",
       "ba                 object\n",
       "bgr               float64\n",
       "bu                float64\n",
       "sc                float64\n",
       "sod               float64\n",
       "pot               float64\n",
       "hemo              float64\n",
       "pcv               float64\n",
       "wc                float64\n",
       "rc                float64\n",
       "htn                object\n",
       "dm                 object\n",
       "cad                object\n",
       "appet              object\n",
       "pe                 object\n",
       "ane                object\n",
       "classification     object\n",
       "dtype: object"
      ]
     },
     "execution_count": 59,
     "metadata": {},
     "output_type": "execute_result"
    }
   ],
   "source": [
    "kidney_df.dtypes"
   ]
  },
  {
   "cell_type": "code",
   "execution_count": 60,
   "id": "5035cfa3",
   "metadata": {},
   "outputs": [],
   "source": [
    "kidney_df=pd.get_dummies(kidney_df)"
   ]
  },
  {
   "cell_type": "code",
   "execution_count": 61,
   "id": "2c592c88",
   "metadata": {},
   "outputs": [
    {
     "data": {
      "text/plain": [
       "age                      float64\n",
       "bp                       float64\n",
       "sg                       float64\n",
       "al                       float64\n",
       "su                       float64\n",
       "bgr                      float64\n",
       "bu                       float64\n",
       "sc                       float64\n",
       "sod                      float64\n",
       "pot                      float64\n",
       "hemo                     float64\n",
       "pcv                      float64\n",
       "wc                       float64\n",
       "rc                       float64\n",
       "rbc_abnormal               uint8\n",
       "rbc_normal                 uint8\n",
       "pc_abnormal                uint8\n",
       "pc_normal                  uint8\n",
       "pcc_notpresent             uint8\n",
       "pcc_present                uint8\n",
       "ba_notpresent              uint8\n",
       "ba_present                 uint8\n",
       "htn_0                      uint8\n",
       "htn_1                      uint8\n",
       "dm_0                       uint8\n",
       "dm_1                       uint8\n",
       "cad_0                      uint8\n",
       "cad_1                      uint8\n",
       "appet_good                 uint8\n",
       "appet_poor                 uint8\n",
       "pe_0                       uint8\n",
       "pe_1                       uint8\n",
       "ane_0                      uint8\n",
       "ane_1                      uint8\n",
       "classification_ckd         uint8\n",
       "classification_notckd      uint8\n",
       "dtype: object"
      ]
     },
     "execution_count": 61,
     "metadata": {},
     "output_type": "execute_result"
    }
   ],
   "source": [
    "kidney_df.dtypes"
   ]
  },
  {
   "cell_type": "code",
   "execution_count": 62,
   "id": "9f89152a",
   "metadata": {},
   "outputs": [
    {
     "name": "stdout",
     "output_type": "stream",
     "text": [
      "(391, 35)\n",
      "(391,)\n"
     ]
    }
   ],
   "source": [
    "q=kidney_df.drop(['classification_ckd'],axis=1)\n",
    "w=kidney_df['classification_notckd']\n",
    "print(q.shape)\n",
    "print(w.shape)"
   ]
  },
  {
   "cell_type": "code",
   "execution_count": 63,
   "id": "8815b7b7",
   "metadata": {},
   "outputs": [],
   "source": [
    "q=kidney_df.drop(['classification_ckd'],axis=1)\n",
    "w=kidney_df['classification_notckd']\n",
    "q_resampled , w_resampled = SMOTE().fit_resample(q,w)"
   ]
  },
  {
   "cell_type": "code",
   "execution_count": 64,
   "id": "af68f89d",
   "metadata": {},
   "outputs": [
    {
     "data": {
      "text/plain": [
       "0    242\n",
       "1    242\n",
       "Name: classification_notckd, dtype: int64"
      ]
     },
     "execution_count": 64,
     "metadata": {},
     "output_type": "execute_result"
    }
   ],
   "source": [
    "w_resampled.value_counts()"
   ]
  },
  {
   "cell_type": "markdown",
   "id": "61a1c95b",
   "metadata": {},
   "source": [
    "# observation:The target variable classes are balanced"
   ]
  },
  {
   "cell_type": "markdown",
   "id": "07154869",
   "metadata": {},
   "source": [
    "# Data Visualization"
   ]
  },
  {
   "cell_type": "code",
   "execution_count": 63,
   "id": "31fa5cd1",
   "metadata": {},
   "outputs": [
    {
     "data": {
      "image/png": "[encoded data removed]",
      "text/plain": [
       "<Figure size 432x288 with 1 Axes>"
      ]
     },
     "metadata": {
      "needs_background": "light"
     },
     "output_type": "display_data"
    }
   ],
   "source": [
    "#Barplot indicates which age group is having more Blood Pressure\n",
    "sms.barplot(x = 'bp' , y  = 'age' , data = kidney_df)\n",
    "plt.show()\n",
    "#Here we can see age group between 50-60 is having more Blood Pressure"
   ]
  },
  {
   "cell_type": "code",
   "execution_count": 65,
   "id": "18d19b0a",
   "metadata": {},
   "outputs": [
    {
     "data": {
      "image/png": "[encoded data removed]",
      "text/plain": [
       "<Figure size 432x288 with 1 Axes>"
      ]
     },
     "metadata": {
      "needs_background": "light"
     },
     "output_type": "display_data"
    }
   ],
   "source": [
    "#This graph shows many age group are having more albuminuria \n",
    "sms.lineplot(x = 'age' , y = 'al' , data =kidney_df)\n",
    "plt.show()"
   ]
  },
  {
   "cell_type": "code",
   "execution_count": 69,
   "id": "071eed52",
   "metadata": {},
   "outputs": [
    {
     "data": {
      "text/plain": [
       "<AxesSubplot:xlabel='bp', ylabel='age'>"
      ]
     },
     "execution_count": 69,
     "metadata": {},
     "output_type": "execute_result"
    },
    {
     "data": {
      "image/png": "[encoded data removed]",
      "text/plain": [
       "<Figure size 432x288 with 1 Axes>"
      ]
     },
     "metadata": {
      "needs_background": "light"
     },
     "output_type": "display_data"
    }
   ],
   "source": [
    "sms.stripplot(kidney_df['bp'],kidney_df['age'])"
   ]
  },
  {
   "cell_type": "code",
   "execution_count": 77,
   "id": "529a9b4f",
   "metadata": {},
   "outputs": [
    {
     "data": {
      "image/png": "[encoded data removed]",
      "text/plain": [
       "<Figure size 576x576 with 1 Axes>"
      ]
     },
     "metadata": {},
     "output_type": "display_data"
    }
   ],
   "source": [
    "#pie graph\n",
    "fig,axes =plt.subplots(figsize=(8,8))\n",
    "kidney_df['classification_ckd'].value_counts().plot.pie(autopct='%1.1f%%',\n",
    " colormap='tab10_r',\n",
    "fontsize=25,\n",
    "shadow=True,\n",
    "explode=None)\n",
    "axes.set_title(\"kidney prediction pie chart\",fontsize=18)\n",
    "axes.set_xlabel(None)\n",
    "plt.show()"
   ]
  },
  {
   "cell_type": "code",
   "execution_count": 80,
   "id": "f2c14123",
   "metadata": {},
   "outputs": [
    {
     "data": {
      "image/png": "[encoded data removed]",
      "text/plain": [
       "<Figure size 432x288 with 1 Axes>"
      ]
     },
     "metadata": {
      "needs_background": "light"
     },
     "output_type": "display_data"
    }
   ],
   "source": [
    "sms.barplot(x = 'al' , y  = 'age' , data = kidney_df)\n",
    "plt.show()"
   ]
  },
  {
   "cell_type": "code",
   "execution_count": 81,
   "id": "1d60b0c7",
   "metadata": {},
   "outputs": [
    {
     "data": {
      "image/png": "[encoded data removed]",
      "text/plain": [
       "<Figure size 432x288 with 1 Axes>"
      ]
     },
     "metadata": {
      "needs_background": "light"
     },
     "output_type": "display_data"
    }
   ],
   "source": [
    "sms.barplot(x = 'su' , y  = 'bp' , data = kidney_df)\n",
    "plt.show()"
   ]
  },
  {
   "cell_type": "code",
   "execution_count": 57,
   "id": "73be2c53",
   "metadata": {},
   "outputs": [
    {
     "data": {
      "image/png": "[encoded data removed]",
      "text/plain": [
       "<Figure size 432x288 with 1 Axes>"
      ]
     },
     "metadata": {
      "needs_background": "light"
     },
     "output_type": "display_data"
    },
    {
     "name": "stdout",
     "output_type": "stream",
     "text": [
      "Percentage of chronic kidney disease sample:  61.89 %\n",
      "Percentage of not a chronic kidney disease sample:  38.11 %\n"
     ]
    }
   ],
   "source": [
    "#before classimbalance\n",
    "sms.countplot(x='classification', data = kidney_df)\n",
    "plt.xlabel(\"classification\")\n",
    "plt.ylabel(\"Count\")\n",
    "plt.title(\"Target Class\")\n",
    "plt.show()\n",
    "print(\"Percentage of chronic kidney disease sample: \", round(len(kidney_df[kidney_df['classification']=='ckd'])/len(kidney_df['classification'])*100,2),\"%\")\n",
    "print(\"Percentage of not a chronic kidney disease sample: \", round(len(kidney_df[kidney_df['classification']=='notckd'])/len(kidney_df['classification'])*100,2),\"%\")"
   ]
  }
 ],
 "metadata": {
  "kernelspec": {
   "display_name": "Python 3 (ipykernel)",
   "language": "python",
   "name": "python3"
  },
  "language_info": {
   "codemirror_mode": {
    "name": "ipython",
    "version": 3
   },
   "file_extension": ".py",
   "mimetype": "text/x-python",
   "name": "python",
   "nbconvert_exporter": "python",
   "pygments_lexer": "ipython3",
   "version": "3.9.12"
  }
 },
 "nbformat": 4,
 "nbformat_minor": 5
}
